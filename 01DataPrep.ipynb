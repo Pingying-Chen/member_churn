{
 "cells": [
  {
   "cell_type": "markdown",
   "metadata": {
    "id": "p0kA237gXz7a"
   },
   "source": [
    "# Data Prep"
   ]
  },
  {
   "cell_type": "code",
   "execution_count": 1,
   "metadata": {
    "colab": {
     "base_uri": "https://localhost:8080/"
    },
    "id": "_0X7m8SgXxrn",
    "outputId": "ff0e5f2c-b60a-4dcb-9f82-c032bad46123"
   },
   "outputs": [
    {
     "name": "stderr",
     "output_type": "stream",
     "text": [
      "/var/folders/dw/5lrf5nls49q7nfzf83vn454h0000gn/T/ipykernel_89113/746181859.py:6: DtypeWarning: Columns (6) have mixed types. Specify dtype option on import or set low_memory=False.\n",
      "  sales = pd.read_csv('Sales Report 1-1-2017 - 12-31-2023-Sales.csv', encoding='ISO-8859-1')\n"
     ]
    }
   ],
   "source": [
    "import pandas as pd\n",
    "import numpy as np\n",
    "\n",
    "members = pd.read_csv('Members Report - as of 31-Dec-2023.csv')\n",
    "deposits = pd.read_csv('Sales Report 1-1-2017 - 12-31-2023-Deposits.csv')\n",
    "sales = pd.read_csv('Sales Report 1-1-2017 - 12-31-2023-Sales.csv', encoding='ISO-8859-1')\n",
    "schedule = pd.read_csv('ScheduleAtAGlance Report 1-1-2017 - 12-31-2023.csv')\n",
    "metrics = pd.read_csv('Therapist Metrics Jan 1 2019 - Dec 31 2023.csv')\n",
    "turnover = pd.read_csv('Therapist Turnover by Therapist Jan 1 2019 - Dec 31 2023.csv')"
   ]
  },
  {
   "cell_type": "markdown",
   "metadata": {
    "id": "6RqsHwQ9ywaD"
   },
   "source": [
    "## members"
   ]
  },
  {
   "cell_type": "code",
   "execution_count": 2,
   "metadata": {},
   "outputs": [
    {
     "name": "stdout",
     "output_type": "stream",
     "text": [
      "<class 'pandas.core.frame.DataFrame'>\n",
      "RangeIndex: 1737 entries, 0 to 1736\n",
      "Data columns (total 12 columns):\n",
      " #   Column               Non-Null Count  Dtype  \n",
      "---  ------               --------------  -----  \n",
      " 0   BarcodeID            1737 non-null   object \n",
      " 1   Client Name          0 non-null      float64\n",
      " 2   Status               1737 non-null   object \n",
      " 3   Membership Tier      1737 non-null   object \n",
      " 4   Phone                0 non-null      float64\n",
      " 5   Email Address        0 non-null      float64\n",
      " 6   Joined On            1737 non-null   object \n",
      " 7   Location             1737 non-null   object \n",
      " 8   Next AutoPay Date    875 non-null    object \n",
      " 9   Next AutoPay Amount  1737 non-null   float64\n",
      " 10  Lifetime Sales       1737 non-null   float64\n",
      " 11  Is New Member?       15 non-null     object \n",
      "dtypes: float64(5), object(7)\n",
      "memory usage: 163.0+ KB\n"
     ]
    }
   ],
   "source": [
    "members.info()"
   ]
  },
  {
   "cell_type": "code",
   "execution_count": 3,
   "metadata": {},
   "outputs": [
    {
     "data": {
      "text/html": [
       "<div>\n",
       "<style scoped>\n",
       "    .dataframe tbody tr th:only-of-type {\n",
       "        vertical-align: middle;\n",
       "    }\n",
       "\n",
       "    .dataframe tbody tr th {\n",
       "        vertical-align: top;\n",
       "    }\n",
       "\n",
       "    .dataframe thead th {\n",
       "        text-align: right;\n",
       "    }\n",
       "</style>\n",
       "<table border=\"1\" class=\"dataframe\">\n",
       "  <thead>\n",
       "    <tr style=\"text-align: right;\">\n",
       "      <th></th>\n",
       "      <th>Client Name</th>\n",
       "      <th>Phone</th>\n",
       "      <th>Email Address</th>\n",
       "      <th>Next AutoPay Amount</th>\n",
       "      <th>Lifetime Sales</th>\n",
       "    </tr>\n",
       "  </thead>\n",
       "  <tbody>\n",
       "    <tr>\n",
       "      <th>count</th>\n",
       "      <td>0.0</td>\n",
       "      <td>0.0</td>\n",
       "      <td>0.0</td>\n",
       "      <td>1737.000000</td>\n",
       "      <td>1737.000000</td>\n",
       "    </tr>\n",
       "    <tr>\n",
       "      <th>mean</th>\n",
       "      <td>NaN</td>\n",
       "      <td>NaN</td>\n",
       "      <td>NaN</td>\n",
       "      <td>50.751295</td>\n",
       "      <td>2620.992913</td>\n",
       "    </tr>\n",
       "    <tr>\n",
       "      <th>std</th>\n",
       "      <td>NaN</td>\n",
       "      <td>NaN</td>\n",
       "      <td>NaN</td>\n",
       "      <td>51.625281</td>\n",
       "      <td>2794.859996</td>\n",
       "    </tr>\n",
       "    <tr>\n",
       "      <th>min</th>\n",
       "      <td>NaN</td>\n",
       "      <td>NaN</td>\n",
       "      <td>NaN</td>\n",
       "      <td>0.000000</td>\n",
       "      <td>0.000000</td>\n",
       "    </tr>\n",
       "    <tr>\n",
       "      <th>25%</th>\n",
       "      <td>NaN</td>\n",
       "      <td>NaN</td>\n",
       "      <td>NaN</td>\n",
       "      <td>0.000000</td>\n",
       "      <td>798.000000</td>\n",
       "    </tr>\n",
       "    <tr>\n",
       "      <th>50%</th>\n",
       "      <td>NaN</td>\n",
       "      <td>NaN</td>\n",
       "      <td>NaN</td>\n",
       "      <td>79.000000</td>\n",
       "      <td>1660.000000</td>\n",
       "    </tr>\n",
       "    <tr>\n",
       "      <th>75%</th>\n",
       "      <td>NaN</td>\n",
       "      <td>NaN</td>\n",
       "      <td>NaN</td>\n",
       "      <td>89.000000</td>\n",
       "      <td>3441.000000</td>\n",
       "    </tr>\n",
       "    <tr>\n",
       "      <th>max</th>\n",
       "      <td>NaN</td>\n",
       "      <td>NaN</td>\n",
       "      <td>NaN</td>\n",
       "      <td>179.000000</td>\n",
       "      <td>37239.500000</td>\n",
       "    </tr>\n",
       "  </tbody>\n",
       "</table>\n",
       "</div>"
      ],
      "text/plain": [
       "       Client Name  Phone  Email Address  Next AutoPay Amount  Lifetime Sales\n",
       "count          0.0    0.0            0.0          1737.000000     1737.000000\n",
       "mean           NaN    NaN            NaN            50.751295     2620.992913\n",
       "std            NaN    NaN            NaN            51.625281     2794.859996\n",
       "min            NaN    NaN            NaN             0.000000        0.000000\n",
       "25%            NaN    NaN            NaN             0.000000      798.000000\n",
       "50%            NaN    NaN            NaN            79.000000     1660.000000\n",
       "75%            NaN    NaN            NaN            89.000000     3441.000000\n",
       "max            NaN    NaN            NaN           179.000000    37239.500000"
      ]
     },
     "execution_count": 3,
     "metadata": {},
     "output_type": "execute_result"
    }
   ],
   "source": [
    "members.describe()"
   ]
  },
  {
   "cell_type": "code",
   "execution_count": 4,
   "metadata": {},
   "outputs": [
    {
     "data": {
      "text/plain": [
       "968"
      ]
     },
     "execution_count": 4,
     "metadata": {},
     "output_type": "execute_result"
    }
   ],
   "source": [
    "(members['Status'] == 'Active').sum() "
   ]
  },
  {
   "cell_type": "code",
   "execution_count": 5,
   "metadata": {},
   "outputs": [
    {
     "data": {
      "text/plain": [
       "769"
      ]
     },
     "execution_count": 5,
     "metadata": {},
     "output_type": "execute_result"
    }
   ],
   "source": [
    "members.shape[0]-(members['Status'] == 'Active').sum()"
   ]
  },
  {
   "cell_type": "code",
   "execution_count": 6,
   "metadata": {},
   "outputs": [
    {
     "data": {
      "text/plain": [
       "(1737, 12)"
      ]
     },
     "execution_count": 6,
     "metadata": {},
     "output_type": "execute_result"
    }
   ],
   "source": [
    "members.shape"
   ]
  },
  {
   "cell_type": "code",
   "execution_count": 7,
   "metadata": {
    "id": "-dfkxstjY6g0"
   },
   "outputs": [],
   "source": [
    "members = members.drop(['Client Name', 'Phone', 'Email Address'], axis = 1)\n",
    "members['Membership Autopay'] = members['Next AutoPay Amount'].apply(lambda x: 'Yes' if x == 0 else 'No')\n",
    "members = members.drop(columns=['Lifetime Sales'])\n",
    "members['Is New Member?'] = members['Is New Member?'].fillna('No')"
   ]
  },
  {
   "cell_type": "code",
   "execution_count": 8,
   "metadata": {},
   "outputs": [
    {
     "data": {
      "text/plain": [
       "(1737, 9)"
      ]
     },
     "execution_count": 8,
     "metadata": {},
     "output_type": "execute_result"
    }
   ],
   "source": [
    "members.shape"
   ]
  },
  {
   "cell_type": "markdown",
   "metadata": {
    "id": "IpbVJRM3y0qq"
   },
   "source": [
    "## deposits"
   ]
  },
  {
   "cell_type": "code",
   "execution_count": 9,
   "metadata": {},
   "outputs": [
    {
     "name": "stdout",
     "output_type": "stream",
     "text": [
      "<class 'pandas.core.frame.DataFrame'>\n",
      "RangeIndex: 4305 entries, 0 to 4304\n",
      "Data columns (total 20 columns):\n",
      " #   Column             Non-Null Count  Dtype  \n",
      "---  ------             --------------  -----  \n",
      " 0   Sale Date          4305 non-null   object \n",
      " 1   Client ID          4290 non-null   object \n",
      " 2   Client             0 non-null      float64\n",
      " 3   Sale ID            4305 non-null   int64  \n",
      " 4   Item name          4305 non-null   object \n",
      " 5   Batch #            4305 non-null   object \n",
      " 6   Sales Notes        4 non-null      object \n",
      " 7   Location           4305 non-null   object \n",
      " 8   Notes              1368 non-null   object \n",
      " 9   Color              4305 non-null   object \n",
      " 10  Size               4305 non-null   object \n",
      " 11  Item price         4305 non-null   float64\n",
      " 12  Quantity           4305 non-null   float64\n",
      " 13  Subtotal           4305 non-null   float64\n",
      " 14  Discount %         4305 non-null   float64\n",
      " 15  Discount amount    4305 non-null   float64\n",
      " 16  Tax                4305 non-null   float64\n",
      " 17  Item Total         4305 non-null   float64\n",
      " 18  Remaining Balance  4305 non-null   float64\n",
      " 19  Payment Method     4305 non-null   object \n",
      "dtypes: float64(9), int64(1), object(10)\n",
      "memory usage: 672.8+ KB\n"
     ]
    }
   ],
   "source": [
    "deposits.info()"
   ]
  },
  {
   "cell_type": "code",
   "execution_count": 10,
   "metadata": {},
   "outputs": [
    {
     "data": {
      "text/html": [
       "<div>\n",
       "<style scoped>\n",
       "    .dataframe tbody tr th:only-of-type {\n",
       "        vertical-align: middle;\n",
       "    }\n",
       "\n",
       "    .dataframe tbody tr th {\n",
       "        vertical-align: top;\n",
       "    }\n",
       "\n",
       "    .dataframe thead th {\n",
       "        text-align: right;\n",
       "    }\n",
       "</style>\n",
       "<table border=\"1\" class=\"dataframe\">\n",
       "  <thead>\n",
       "    <tr style=\"text-align: right;\">\n",
       "      <th></th>\n",
       "      <th>Client</th>\n",
       "      <th>Sale ID</th>\n",
       "      <th>Item price</th>\n",
       "      <th>Quantity</th>\n",
       "      <th>Subtotal</th>\n",
       "      <th>Discount %</th>\n",
       "      <th>Discount amount</th>\n",
       "      <th>Tax</th>\n",
       "      <th>Item Total</th>\n",
       "      <th>Remaining Balance</th>\n",
       "    </tr>\n",
       "  </thead>\n",
       "  <tbody>\n",
       "    <tr>\n",
       "      <th>count</th>\n",
       "      <td>0.0</td>\n",
       "      <td>4305.000000</td>\n",
       "      <td>4305.000000</td>\n",
       "      <td>4305.00000</td>\n",
       "      <td>4305.000000</td>\n",
       "      <td>4305.00000</td>\n",
       "      <td>4305.000000</td>\n",
       "      <td>4305.0</td>\n",
       "      <td>4305.000000</td>\n",
       "      <td>4305.000000</td>\n",
       "    </tr>\n",
       "    <tr>\n",
       "      <th>mean</th>\n",
       "      <td>NaN</td>\n",
       "      <td>156135.877584</td>\n",
       "      <td>101.124836</td>\n",
       "      <td>0.98374</td>\n",
       "      <td>99.666750</td>\n",
       "      <td>22.26797</td>\n",
       "      <td>30.751329</td>\n",
       "      <td>0.0</td>\n",
       "      <td>68.862706</td>\n",
       "      <td>65.251895</td>\n",
       "    </tr>\n",
       "    <tr>\n",
       "      <th>std</th>\n",
       "      <td>NaN</td>\n",
       "      <td>106450.255362</td>\n",
       "      <td>53.124418</td>\n",
       "      <td>0.17962</td>\n",
       "      <td>55.812572</td>\n",
       "      <td>19.02148</td>\n",
       "      <td>28.295082</td>\n",
       "      <td>0.0</td>\n",
       "      <td>32.163377</td>\n",
       "      <td>35.021364</td>\n",
       "    </tr>\n",
       "    <tr>\n",
       "      <th>min</th>\n",
       "      <td>NaN</td>\n",
       "      <td>14501.000000</td>\n",
       "      <td>1.000000</td>\n",
       "      <td>-1.00000</td>\n",
       "      <td>-189.000000</td>\n",
       "      <td>-61.63000</td>\n",
       "      <td>-48.460000</td>\n",
       "      <td>0.0</td>\n",
       "      <td>-189.000000</td>\n",
       "      <td>-189.000000</td>\n",
       "    </tr>\n",
       "    <tr>\n",
       "      <th>25%</th>\n",
       "      <td>NaN</td>\n",
       "      <td>48686.000000</td>\n",
       "      <td>43.400000</td>\n",
       "      <td>1.00000</td>\n",
       "      <td>43.400000</td>\n",
       "      <td>0.00000</td>\n",
       "      <td>0.000000</td>\n",
       "      <td>0.0</td>\n",
       "      <td>43.400000</td>\n",
       "      <td>35.990000</td>\n",
       "    </tr>\n",
       "    <tr>\n",
       "      <th>50%</th>\n",
       "      <td>NaN</td>\n",
       "      <td>168949.000000</td>\n",
       "      <td>109.000000</td>\n",
       "      <td>1.00000</td>\n",
       "      <td>109.000000</td>\n",
       "      <td>33.19000</td>\n",
       "      <td>39.500000</td>\n",
       "      <td>0.0</td>\n",
       "      <td>74.500000</td>\n",
       "      <td>69.500000</td>\n",
       "    </tr>\n",
       "    <tr>\n",
       "      <th>75%</th>\n",
       "      <td>NaN</td>\n",
       "      <td>284042.000000</td>\n",
       "      <td>129.000000</td>\n",
       "      <td>1.00000</td>\n",
       "      <td>129.000000</td>\n",
       "      <td>38.37000</td>\n",
       "      <td>49.500000</td>\n",
       "      <td>0.0</td>\n",
       "      <td>89.000000</td>\n",
       "      <td>84.500000</td>\n",
       "    </tr>\n",
       "    <tr>\n",
       "      <th>max</th>\n",
       "      <td>NaN</td>\n",
       "      <td>288960.000000</td>\n",
       "      <td>218.000000</td>\n",
       "      <td>1.00000</td>\n",
       "      <td>218.000000</td>\n",
       "      <td>61.63000</td>\n",
       "      <td>94.500000</td>\n",
       "      <td>0.0</td>\n",
       "      <td>218.000000</td>\n",
       "      <td>291.000000</td>\n",
       "    </tr>\n",
       "  </tbody>\n",
       "</table>\n",
       "</div>"
      ],
      "text/plain": [
       "       Client        Sale ID   Item price    Quantity     Subtotal  \\\n",
       "count     0.0    4305.000000  4305.000000  4305.00000  4305.000000   \n",
       "mean      NaN  156135.877584   101.124836     0.98374    99.666750   \n",
       "std       NaN  106450.255362    53.124418     0.17962    55.812572   \n",
       "min       NaN   14501.000000     1.000000    -1.00000  -189.000000   \n",
       "25%       NaN   48686.000000    43.400000     1.00000    43.400000   \n",
       "50%       NaN  168949.000000   109.000000     1.00000   109.000000   \n",
       "75%       NaN  284042.000000   129.000000     1.00000   129.000000   \n",
       "max       NaN  288960.000000   218.000000     1.00000   218.000000   \n",
       "\n",
       "       Discount %  Discount amount     Tax   Item Total  Remaining Balance  \n",
       "count  4305.00000      4305.000000  4305.0  4305.000000        4305.000000  \n",
       "mean     22.26797        30.751329     0.0    68.862706          65.251895  \n",
       "std      19.02148        28.295082     0.0    32.163377          35.021364  \n",
       "min     -61.63000       -48.460000     0.0  -189.000000        -189.000000  \n",
       "25%       0.00000         0.000000     0.0    43.400000          35.990000  \n",
       "50%      33.19000        39.500000     0.0    74.500000          69.500000  \n",
       "75%      38.37000        49.500000     0.0    89.000000          84.500000  \n",
       "max      61.63000        94.500000     0.0   218.000000         291.000000  "
      ]
     },
     "execution_count": 10,
     "metadata": {},
     "output_type": "execute_result"
    }
   ],
   "source": [
    "deposits.describe()"
   ]
  },
  {
   "cell_type": "code",
   "execution_count": 11,
   "metadata": {},
   "outputs": [
    {
     "data": {
      "text/plain": [
       "(4305, 20)"
      ]
     },
     "execution_count": 11,
     "metadata": {},
     "output_type": "execute_result"
    }
   ],
   "source": [
    "deposits.shape"
   ]
  },
  {
   "cell_type": "code",
   "execution_count": 12,
   "metadata": {},
   "outputs": [],
   "source": [
    "deposits = deposits.dropna(subset=['Client ID'])"
   ]
  },
  {
   "cell_type": "code",
   "execution_count": 13,
   "metadata": {},
   "outputs": [
    {
     "data": {
      "text/plain": [
       "(4290, 20)"
      ]
     },
     "execution_count": 13,
     "metadata": {},
     "output_type": "execute_result"
    }
   ],
   "source": [
    "deposits.shape"
   ]
  },
  {
   "cell_type": "code",
   "execution_count": 14,
   "metadata": {
    "id": "5ykRrUPRZ8bX"
   },
   "outputs": [],
   "source": [
    "columns_to_drop = ['Client', 'Sales Notes', 'Notes', 'Color', 'Size', 'Batch #']\n",
    "\n",
    "deposits = deposits.drop(columns=columns_to_drop, axis=1)"
   ]
  },
  {
   "cell_type": "code",
   "execution_count": 15,
   "metadata": {},
   "outputs": [],
   "source": [
    "deposits = deposits[deposits['Quantity'] == 1]"
   ]
  },
  {
   "cell_type": "code",
   "execution_count": 16,
   "metadata": {},
   "outputs": [
    {
     "data": {
      "text/plain": [
       "Index(['Sale Date', 'Client ID', 'Sale ID', 'Item name', 'Location',\n",
       "       'Item price', 'Quantity', 'Subtotal', 'Discount %', 'Discount amount',\n",
       "       'Tax', 'Item Total', 'Remaining Balance', 'Payment Method'],\n",
       "      dtype='object')"
      ]
     },
     "execution_count": 16,
     "metadata": {},
     "output_type": "execute_result"
    }
   ],
   "source": [
    "deposits.columns"
   ]
  },
  {
   "cell_type": "code",
   "execution_count": 17,
   "metadata": {},
   "outputs": [
    {
     "data": {
      "text/plain": [
       "array(['1 Hour Massage Session Gift Card', 'Account Balance Adjustment',\n",
       "       '90 Min Massage Session Gift Card',\n",
       "       'Groupon - 90 Min Massage Session',\n",
       "       'Groupon - 1 Hour Massage Session',\n",
       "       'SpaFinder Wellness 365/SpaWish', 'Spa Week gift card',\n",
       "       'Hot Stone 90 Min Massage Session Gift Card', 'Payment on Account',\n",
       "       'Client Credit', 'AromaRitual 1 Hour Massage Session Gift Card',\n",
       "       'AromaRitual 90 Min Massage Session Gift Card',\n",
       "       'AromaRitual 2 Hour Massage Session Gift Card',\n",
       "       'Holiday - $30 off 90 Min Massage Session Gift Card',\n",
       "       'Holiday - $30 off 1 Hour Massage Session Gift Card',\n",
       "       'Member - 1 Hour Massage Session Gift Card {M}',\n",
       "       'Member - 90 Min Massage Session Gift Card {M}'], dtype=object)"
      ]
     },
     "execution_count": 17,
     "metadata": {},
     "output_type": "execute_result"
    }
   ],
   "source": [
    "deposits['Item name'].unique()"
   ]
  },
  {
   "cell_type": "code",
   "execution_count": 18,
   "metadata": {
    "colab": {
     "base_uri": "https://localhost:8080/",
     "height": 743
    },
    "id": "JnCJXzWAfUYb",
    "outputId": "f52a5f0d-6639-4ed6-f9c7-70c2891a2027"
   },
   "outputs": [
    {
     "data": {
      "text/plain": [
       "Index(['Sale Date', 'Client ID', 'Sale ID', 'Location', 'Item price',\n",
       "       'Quantity', 'Subtotal', 'Discount %', 'Discount amount', 'Tax',\n",
       "       'Item Total', 'Remaining Balance', 'Payment Method', 'Item Description',\n",
       "       'Membership'],\n",
       "      dtype='object')"
      ]
     },
     "execution_count": 18,
     "metadata": {},
     "output_type": "execute_result"
    }
   ],
   "source": [
    "deposits['Col1'] = deposits['Item name'].str.split('{').str[1]\n",
    "deposits['Col1'].str.strip()\n",
    "deposits['Item Description'] = deposits['Item name'].str.split('{').str[0]\n",
    "deposits['Item Description'] = deposits['Item Description'].str.strip()\n",
    "deposits['Item Description'] = deposits['Item Description'].str.upper()\n",
    "deposits['Col1'] = deposits['Col1'].str.replace('}','')\n",
    "\n",
    "deposits.loc[deposits['Col1'] == 'M', 'Membership'] = 'Member'\n",
    "deposits['Membership'] = deposits['Membership'].fillna(\"Non-Member\")\n",
    "\n",
    "deposits = deposits.drop(['Col1', 'Item name'], axis=1)\n",
    "\n",
    "deposits.columns"
   ]
  },
  {
   "cell_type": "code",
   "execution_count": 19,
   "metadata": {},
   "outputs": [
    {
     "data": {
      "text/plain": [
       "Item Description\n",
       "1 HOUR MASSAGE SESSION GIFT CARD                      1785\n",
       "90 MIN MASSAGE SESSION GIFT CARD                       931\n",
       "GROUPON - 1 HOUR MASSAGE SESSION                       863\n",
       "GROUPON - 90 MIN MASSAGE SESSION                       475\n",
       "PAYMENT ON ACCOUNT                                      85\n",
       "ACCOUNT BALANCE ADJUSTMENT                              40\n",
       "SPAFINDER WELLNESS 365/SPAWISH                          19\n",
       "MEMBER - 1 HOUR MASSAGE SESSION GIFT CARD               19\n",
       "AROMARITUAL 1 HOUR MASSAGE SESSION GIFT CARD             9\n",
       "MEMBER - 90 MIN MASSAGE SESSION GIFT CARD                9\n",
       "HOT STONE 90 MIN MASSAGE SESSION GIFT CARD               6\n",
       "SPA WEEK GIFT CARD                                       5\n",
       "HOLIDAY - $30 OFF 90 MIN MASSAGE SESSION GIFT CARD       3\n",
       "CLIENT CREDIT                                            2\n",
       "AROMARITUAL 2 HOUR MASSAGE SESSION GIFT CARD             2\n",
       "AROMARITUAL 90 MIN MASSAGE SESSION GIFT CARD             1\n",
       "HOLIDAY - $30 OFF 1 HOUR MASSAGE SESSION GIFT CARD       1\n",
       "Name: count, dtype: int64"
      ]
     },
     "execution_count": 19,
     "metadata": {},
     "output_type": "execute_result"
    }
   ],
   "source": [
    "deposits['Item Description'].value_counts()"
   ]
  },
  {
   "cell_type": "code",
   "execution_count": 20,
   "metadata": {},
   "outputs": [
    {
     "data": {
      "text/plain": [
       "(4255, 15)"
      ]
     },
     "execution_count": 20,
     "metadata": {},
     "output_type": "execute_result"
    }
   ],
   "source": [
    "deposits.shape"
   ]
  },
  {
   "cell_type": "markdown",
   "metadata": {},
   "source": [
    "#### Add Summarized Features and Group by"
   ]
  },
  {
   "cell_type": "code",
   "execution_count": 21,
   "metadata": {},
   "outputs": [
    {
     "name": "stderr",
     "output_type": "stream",
     "text": [
      "/var/folders/dw/5lrf5nls49q7nfzf83vn454h0000gn/T/ipykernel_89113/2010753310.py:2: UserWarning: Could not infer format, so each element will be parsed individually, falling back to `dateutil`. To ensure parsing is consistent and as-expected, please specify a format.\n",
      "  deposits['Sale Date'] = pd.to_datetime(deposits['Sale Date'])\n"
     ]
    }
   ],
   "source": [
    "# Convert 'Sale Date' to datetime for accurate processing\n",
    "deposits['Sale Date'] = pd.to_datetime(deposits['Sale Date'])\n",
    "\n",
    "# Calculate first and last deposit date, and deposit frequency for each client\n",
    "deposits['First_Deposit_Date'] = deposits.groupby('Client ID')['Sale Date'].transform('min')\n",
    "deposits['Last_Deposit_Date'] = deposits.groupby('Client ID')['Sale Date'].transform('max')\n",
    "deposits['Deposit_Frequency'] = deposits.groupby('Client ID')['Sale Date'].transform('count')\n",
    "\n",
    "# Sort deposits to get the last deposit membership correctly\n",
    "deposits_sorted = deposits.sort_values(by=['Client ID', 'Sale Date'])\n",
    "last_membership = deposits_sorted.drop_duplicates('Client ID', keep='last')[['Client ID', 'Membership']]\n",
    "last_membership.rename(columns={'Membership': 'Last_Deposit_Membership'}, inplace=True)\n",
    "\n",
    "# Merge to get the Last_Deposit_Membership for each client\n",
    "deposits = deposits.merge(last_membership, on='Client ID', how='left')"
   ]
  },
  {
   "cell_type": "code",
   "execution_count": 22,
   "metadata": {},
   "outputs": [
    {
     "data": {
      "text/plain": [
       "(4255, 19)"
      ]
     },
     "execution_count": 22,
     "metadata": {},
     "output_type": "execute_result"
    }
   ],
   "source": [
    "deposits.shape"
   ]
  },
  {
   "cell_type": "markdown",
   "metadata": {},
   "source": [
    "### Group by"
   ]
  },
  {
   "cell_type": "code",
   "execution_count": 23,
   "metadata": {},
   "outputs": [],
   "source": [
    "grouped_deposits = deposits.groupby('Client ID').agg({\n",
    "    'First_Deposit_Date': 'max',\n",
    "    'Last_Deposit_Date': 'max',\n",
    "    'Deposit_Frequency': 'max',\n",
    "    'Last_Deposit_Membership': 'max'\n",
    "}).reset_index()"
   ]
  },
  {
   "cell_type": "code",
   "execution_count": 24,
   "metadata": {},
   "outputs": [
    {
     "data": {
      "text/plain": [
       "(2621, 5)"
      ]
     },
     "execution_count": 24,
     "metadata": {},
     "output_type": "execute_result"
    }
   ],
   "source": [
    "grouped_deposits.shape"
   ]
  },
  {
   "cell_type": "code",
   "execution_count": 25,
   "metadata": {},
   "outputs": [
    {
     "name": "stdout",
     "output_type": "stream",
     "text": [
      "<class 'pandas.core.frame.DataFrame'>\n",
      "RangeIndex: 2621 entries, 0 to 2620\n",
      "Data columns (total 5 columns):\n",
      " #   Column                   Non-Null Count  Dtype         \n",
      "---  ------                   --------------  -----         \n",
      " 0   Client ID                2621 non-null   object        \n",
      " 1   First_Deposit_Date       2621 non-null   datetime64[ns]\n",
      " 2   Last_Deposit_Date        2621 non-null   datetime64[ns]\n",
      " 3   Deposit_Frequency        2621 non-null   int64         \n",
      " 4   Last_Deposit_Membership  2621 non-null   object        \n",
      "dtypes: datetime64[ns](2), int64(1), object(2)\n",
      "memory usage: 102.5+ KB\n"
     ]
    }
   ],
   "source": [
    "grouped_deposits.info()"
   ]
  },
  {
   "cell_type": "code",
   "execution_count": 26,
   "metadata": {},
   "outputs": [
    {
     "data": {
      "text/html": [
       "<div>\n",
       "<style scoped>\n",
       "    .dataframe tbody tr th:only-of-type {\n",
       "        vertical-align: middle;\n",
       "    }\n",
       "\n",
       "    .dataframe tbody tr th {\n",
       "        vertical-align: top;\n",
       "    }\n",
       "\n",
       "    .dataframe thead th {\n",
       "        text-align: right;\n",
       "    }\n",
       "</style>\n",
       "<table border=\"1\" class=\"dataframe\">\n",
       "  <thead>\n",
       "    <tr style=\"text-align: right;\">\n",
       "      <th></th>\n",
       "      <th>First_Deposit_Date</th>\n",
       "      <th>Last_Deposit_Date</th>\n",
       "      <th>Deposit_Frequency</th>\n",
       "    </tr>\n",
       "  </thead>\n",
       "  <tbody>\n",
       "    <tr>\n",
       "      <th>count</th>\n",
       "      <td>2621</td>\n",
       "      <td>2621</td>\n",
       "      <td>2621.000000</td>\n",
       "    </tr>\n",
       "    <tr>\n",
       "      <th>mean</th>\n",
       "      <td>2020-07-01 00:04:56.680656384</td>\n",
       "      <td>2020-09-17 08:27:39.214040320</td>\n",
       "      <td>1.623426</td>\n",
       "    </tr>\n",
       "    <tr>\n",
       "      <th>min</th>\n",
       "      <td>2017-01-03 00:00:00</td>\n",
       "      <td>2017-01-03 00:00:00</td>\n",
       "      <td>1.000000</td>\n",
       "    </tr>\n",
       "    <tr>\n",
       "      <th>25%</th>\n",
       "      <td>2018-09-13 00:00:00</td>\n",
       "      <td>2018-10-18 00:00:00</td>\n",
       "      <td>1.000000</td>\n",
       "    </tr>\n",
       "    <tr>\n",
       "      <th>50%</th>\n",
       "      <td>2019-11-14 00:00:00</td>\n",
       "      <td>2019-12-22 00:00:00</td>\n",
       "      <td>1.000000</td>\n",
       "    </tr>\n",
       "    <tr>\n",
       "      <th>75%</th>\n",
       "      <td>2022-11-04 00:00:00</td>\n",
       "      <td>2022-12-18 00:00:00</td>\n",
       "      <td>2.000000</td>\n",
       "    </tr>\n",
       "    <tr>\n",
       "      <th>max</th>\n",
       "      <td>2023-12-29 00:00:00</td>\n",
       "      <td>2023-12-31 00:00:00</td>\n",
       "      <td>40.000000</td>\n",
       "    </tr>\n",
       "    <tr>\n",
       "      <th>std</th>\n",
       "      <td>NaN</td>\n",
       "      <td>NaN</td>\n",
       "      <td>1.619929</td>\n",
       "    </tr>\n",
       "  </tbody>\n",
       "</table>\n",
       "</div>"
      ],
      "text/plain": [
       "                  First_Deposit_Date              Last_Deposit_Date  \\\n",
       "count                           2621                           2621   \n",
       "mean   2020-07-01 00:04:56.680656384  2020-09-17 08:27:39.214040320   \n",
       "min              2017-01-03 00:00:00            2017-01-03 00:00:00   \n",
       "25%              2018-09-13 00:00:00            2018-10-18 00:00:00   \n",
       "50%              2019-11-14 00:00:00            2019-12-22 00:00:00   \n",
       "75%              2022-11-04 00:00:00            2022-12-18 00:00:00   \n",
       "max              2023-12-29 00:00:00            2023-12-31 00:00:00   \n",
       "std                              NaN                            NaN   \n",
       "\n",
       "       Deposit_Frequency  \n",
       "count        2621.000000  \n",
       "mean            1.623426  \n",
       "min             1.000000  \n",
       "25%             1.000000  \n",
       "50%             1.000000  \n",
       "75%             2.000000  \n",
       "max            40.000000  \n",
       "std             1.619929  "
      ]
     },
     "execution_count": 26,
     "metadata": {},
     "output_type": "execute_result"
    }
   ],
   "source": [
    "grouped_deposits.describe()"
   ]
  },
  {
   "cell_type": "markdown",
   "metadata": {
    "id": "5ia9R3xxy3Z9"
   },
   "source": [
    "## sales"
   ]
  },
  {
   "cell_type": "code",
   "execution_count": 27,
   "metadata": {
    "colab": {
     "base_uri": "https://localhost:8080/",
     "height": 712
    },
    "id": "pfSzXBSzY0DL",
    "outputId": "dca69502-122a-40f7-f8cc-711b5fbac52a"
   },
   "outputs": [
    {
     "name": "stdout",
     "output_type": "stream",
     "text": [
      "<class 'pandas.core.frame.DataFrame'>\n",
      "RangeIndex: 77731 entries, 0 to 77730\n",
      "Data columns (total 20 columns):\n",
      " #   Column                        Non-Null Count  Dtype  \n",
      "---  ------                        --------------  -----  \n",
      " 0   Sale Date                     77731 non-null  object \n",
      " 1   Client ID                     77701 non-null  object \n",
      " 2   Client                        0 non-null      float64\n",
      " 3   Sale ID                       77731 non-null  int64  \n",
      " 4   Item name                     77731 non-null  object \n",
      " 5   Batch #                       77731 non-null  object \n",
      " 6   Sales Notes                   82 non-null     object \n",
      " 7   Location                      77731 non-null  object \n",
      " 8   Notes                         293 non-null    object \n",
      " 9   Color                         77731 non-null  object \n",
      " 10  Size                          77731 non-null  object \n",
      " 11  Item price                    77731 non-null  float64\n",
      " 12  Quantity                      77731 non-null  float64\n",
      " 13  Subtotal                      77731 non-null  float64\n",
      " 14  Discount %                    77731 non-null  float64\n",
      " 15  Discount amount               77731 non-null  float64\n",
      " 16  Tax                           77731 non-null  float64\n",
      " 17  Item Total                    77731 non-null  float64\n",
      " 18  Total Paid w/ Payment Method  77731 non-null  float64\n",
      " 19  Payment Method                77731 non-null  object \n",
      "dtypes: float64(9), int64(1), object(10)\n",
      "memory usage: 11.9+ MB\n"
     ]
    }
   ],
   "source": [
    "sales.info()"
   ]
  },
  {
   "cell_type": "code",
   "execution_count": 28,
   "metadata": {},
   "outputs": [
    {
     "data": {
      "text/html": [
       "<div>\n",
       "<style scoped>\n",
       "    .dataframe tbody tr th:only-of-type {\n",
       "        vertical-align: middle;\n",
       "    }\n",
       "\n",
       "    .dataframe tbody tr th {\n",
       "        vertical-align: top;\n",
       "    }\n",
       "\n",
       "    .dataframe thead th {\n",
       "        text-align: right;\n",
       "    }\n",
       "</style>\n",
       "<table border=\"1\" class=\"dataframe\">\n",
       "  <thead>\n",
       "    <tr style=\"text-align: right;\">\n",
       "      <th></th>\n",
       "      <th>Client</th>\n",
       "      <th>Sale ID</th>\n",
       "      <th>Item price</th>\n",
       "      <th>Quantity</th>\n",
       "      <th>Subtotal</th>\n",
       "      <th>Discount %</th>\n",
       "      <th>Discount amount</th>\n",
       "      <th>Tax</th>\n",
       "      <th>Item Total</th>\n",
       "      <th>Total Paid w/ Payment Method</th>\n",
       "    </tr>\n",
       "  </thead>\n",
       "  <tbody>\n",
       "    <tr>\n",
       "      <th>count</th>\n",
       "      <td>0.0</td>\n",
       "      <td>77731.000000</td>\n",
       "      <td>77731.000000</td>\n",
       "      <td>77731.000000</td>\n",
       "      <td>77731.000000</td>\n",
       "      <td>77731.000000</td>\n",
       "      <td>77731.000000</td>\n",
       "      <td>77731.0</td>\n",
       "      <td>77731.000000</td>\n",
       "      <td>77731.000000</td>\n",
       "    </tr>\n",
       "    <tr>\n",
       "      <th>mean</th>\n",
       "      <td>NaN</td>\n",
       "      <td>159762.798600</td>\n",
       "      <td>82.463062</td>\n",
       "      <td>0.984691</td>\n",
       "      <td>81.208176</td>\n",
       "      <td>4.007805</td>\n",
       "      <td>3.127882</td>\n",
       "      <td>0.0</td>\n",
       "      <td>77.728045</td>\n",
       "      <td>69.516016</td>\n",
       "    </tr>\n",
       "    <tr>\n",
       "      <th>std</th>\n",
       "      <td>NaN</td>\n",
       "      <td>90962.135599</td>\n",
       "      <td>45.285469</td>\n",
       "      <td>0.174311</td>\n",
       "      <td>47.499106</td>\n",
       "      <td>11.253129</td>\n",
       "      <td>9.654131</td>\n",
       "      <td>0.0</td>\n",
       "      <td>46.335400</td>\n",
       "      <td>44.710622</td>\n",
       "    </tr>\n",
       "    <tr>\n",
       "      <th>min</th>\n",
       "      <td>NaN</td>\n",
       "      <td>14501.000000</td>\n",
       "      <td>0.000000</td>\n",
       "      <td>-1.000000</td>\n",
       "      <td>-189.000000</td>\n",
       "      <td>-62.500000</td>\n",
       "      <td>-70.000000</td>\n",
       "      <td>0.0</td>\n",
       "      <td>-179.000000</td>\n",
       "      <td>-279.700000</td>\n",
       "    </tr>\n",
       "    <tr>\n",
       "      <th>25%</th>\n",
       "      <td>NaN</td>\n",
       "      <td>58265.500000</td>\n",
       "      <td>69.000000</td>\n",
       "      <td>1.000000</td>\n",
       "      <td>69.000000</td>\n",
       "      <td>0.000000</td>\n",
       "      <td>0.000000</td>\n",
       "      <td>0.0</td>\n",
       "      <td>69.000000</td>\n",
       "      <td>50.000000</td>\n",
       "    </tr>\n",
       "    <tr>\n",
       "      <th>50%</th>\n",
       "      <td>NaN</td>\n",
       "      <td>172764.000000</td>\n",
       "      <td>79.000000</td>\n",
       "      <td>1.000000</td>\n",
       "      <td>79.000000</td>\n",
       "      <td>0.000000</td>\n",
       "      <td>0.000000</td>\n",
       "      <td>0.0</td>\n",
       "      <td>79.000000</td>\n",
       "      <td>79.000000</td>\n",
       "    </tr>\n",
       "    <tr>\n",
       "      <th>75%</th>\n",
       "      <td>NaN</td>\n",
       "      <td>246706.000000</td>\n",
       "      <td>109.000000</td>\n",
       "      <td>1.000000</td>\n",
       "      <td>109.000000</td>\n",
       "      <td>0.000000</td>\n",
       "      <td>0.000000</td>\n",
       "      <td>0.0</td>\n",
       "      <td>99.000000</td>\n",
       "      <td>89.000000</td>\n",
       "    </tr>\n",
       "    <tr>\n",
       "      <th>max</th>\n",
       "      <td>NaN</td>\n",
       "      <td>290383.000000</td>\n",
       "      <td>3088.000000</td>\n",
       "      <td>1.000000</td>\n",
       "      <td>3088.000000</td>\n",
       "      <td>100.000000</td>\n",
       "      <td>109.000000</td>\n",
       "      <td>0.0</td>\n",
       "      <td>3088.000000</td>\n",
       "      <td>3088.000000</td>\n",
       "    </tr>\n",
       "  </tbody>\n",
       "</table>\n",
       "</div>"
      ],
      "text/plain": [
       "       Client        Sale ID    Item price      Quantity      Subtotal  \\\n",
       "count     0.0   77731.000000  77731.000000  77731.000000  77731.000000   \n",
       "mean      NaN  159762.798600     82.463062      0.984691     81.208176   \n",
       "std       NaN   90962.135599     45.285469      0.174311     47.499106   \n",
       "min       NaN   14501.000000      0.000000     -1.000000   -189.000000   \n",
       "25%       NaN   58265.500000     69.000000      1.000000     69.000000   \n",
       "50%       NaN  172764.000000     79.000000      1.000000     79.000000   \n",
       "75%       NaN  246706.000000    109.000000      1.000000    109.000000   \n",
       "max       NaN  290383.000000   3088.000000      1.000000   3088.000000   \n",
       "\n",
       "         Discount %  Discount amount      Tax    Item Total  \\\n",
       "count  77731.000000     77731.000000  77731.0  77731.000000   \n",
       "mean       4.007805         3.127882      0.0     77.728045   \n",
       "std       11.253129         9.654131      0.0     46.335400   \n",
       "min      -62.500000       -70.000000      0.0   -179.000000   \n",
       "25%        0.000000         0.000000      0.0     69.000000   \n",
       "50%        0.000000         0.000000      0.0     79.000000   \n",
       "75%        0.000000         0.000000      0.0     99.000000   \n",
       "max      100.000000       109.000000      0.0   3088.000000   \n",
       "\n",
       "       Total Paid w/ Payment Method  \n",
       "count                  77731.000000  \n",
       "mean                      69.516016  \n",
       "std                       44.710622  \n",
       "min                     -279.700000  \n",
       "25%                       50.000000  \n",
       "50%                       79.000000  \n",
       "75%                       89.000000  \n",
       "max                     3088.000000  "
      ]
     },
     "execution_count": 28,
     "metadata": {},
     "output_type": "execute_result"
    }
   ],
   "source": [
    "sales.describe()"
   ]
  },
  {
   "cell_type": "code",
   "execution_count": 29,
   "metadata": {},
   "outputs": [
    {
     "data": {
      "text/plain": [
       "(77731, 20)"
      ]
     },
     "execution_count": 29,
     "metadata": {},
     "output_type": "execute_result"
    }
   ],
   "source": [
    "sales.shape"
   ]
  },
  {
   "cell_type": "code",
   "execution_count": 30,
   "metadata": {
    "id": "RifnoXS8ZfQ_"
   },
   "outputs": [],
   "source": [
    "sales = sales.drop(['Client', 'Sales Notes', 'Notes', 'Color', 'Size'], axis=1)\n",
    "sales = sales[sales['Quantity'] == 1]"
   ]
  },
  {
   "cell_type": "code",
   "execution_count": 31,
   "metadata": {},
   "outputs": [],
   "source": [
    "sales = sales.dropna(subset=['Client ID'])"
   ]
  },
  {
   "cell_type": "code",
   "execution_count": 32,
   "metadata": {},
   "outputs": [
    {
     "data": {
      "text/plain": [
       "(77109, 15)"
      ]
     },
     "execution_count": 32,
     "metadata": {},
     "output_type": "execute_result"
    }
   ],
   "source": [
    "sales.shape"
   ]
  },
  {
   "cell_type": "code",
   "execution_count": 33,
   "metadata": {},
   "outputs": [
    {
     "data": {
      "text/plain": [
       "['1 Hour Massage Session',\n",
       " '1 Hour Massage Session {1}',\n",
       " '1 Hour Massage Session {90}',\n",
       " '1 Hour Massage Session {M}',\n",
       " '1 Hour Massage Session {NA}',\n",
       " '1 Hour Massage Session {National Access}',\n",
       " '1 Hour Massage Session {Non-Member}',\n",
       " '2 Hour Massage Session',\n",
       " '2 Hour Massage Session {1}',\n",
       " '2 Hour Massage Session {2}',\n",
       " '2 Hour Massage Session {90}',\n",
       " '2 Hour Massage Session {M}',\n",
       " '2 Hour Massage Session {Non-Member}',\n",
       " '30 Min Massage Session',\n",
       " '30 Min Massage Session {1}',\n",
       " '30 Min Massage Session {90}',\n",
       " '30 Min Massage Session {M}',\n",
       " '30 Min Massage Session {NA}',\n",
       " '30 Min Massage Session {National Access}',\n",
       " '30 Min Massage Session {Non-Member}',\n",
       " '90 Min Massage Session',\n",
       " '90 Min Massage Session {1}',\n",
       " '90 Min Massage Session {90}',\n",
       " '90 Min Massage Session {M}',\n",
       " '90 Min Massage Session {NA}',\n",
       " '90 Min Massage Session {National Access}',\n",
       " '90 Min Massage Session {Non-Member}',\n",
       " 'AromaRitual (Seasonal) {Member}',\n",
       " 'AromaRitual (Seasonal) {M}',\n",
       " 'AromaRitual (Seasonal) {Non-Member}',\n",
       " 'AromaRitual Calm',\n",
       " 'AromaRitual Calm {Member}',\n",
       " 'AromaRitual Calm {M}',\n",
       " 'AromaRitual Calm {Non-Member}',\n",
       " 'AromaRitual Energize',\n",
       " 'AromaRitual Energize {M}',\n",
       " 'AromaRitual Energize {Non-Member}',\n",
       " 'AromaRitual Refresh',\n",
       " 'AromaRitual Refresh {Member}',\n",
       " 'AromaRitual Refresh {M}',\n",
       " 'AromaRitual Refresh {Non-Member}',\n",
       " 'AromaRitual Sweet Orange {Member}',\n",
       " 'AromaRitual Sweet Orange {M}',\n",
       " 'Aromatherapy (Seasonal) Add-On {M}',\n",
       " 'Aromatherapy Add-On',\n",
       " 'Aromatherapy Add-On {M}',\n",
       " 'Associate Member {1}',\n",
       " 'Associate Member {M}',\n",
       " 'Chair Massage Session - Outcall',\n",
       " 'Couples 1 Hour Massage Session',\n",
       " 'Couples 1 Hour Massage Session {1}',\n",
       " 'Couples 1 Hour Massage Session {M}',\n",
       " 'Couples 1 Hour Massage Session {NA}',\n",
       " 'Couples 90 Min Massage Session',\n",
       " 'Couples 90 Min Massage Session {1}',\n",
       " 'Couples 90 Min Massage Session {90}',\n",
       " 'Couples 90 Min Massage Session {M}',\n",
       " 'Couples Cupping 90 Min Massage Session {M}',\n",
       " 'Couples Hot Stone 1 Hour Massage Session',\n",
       " 'Couples Hot Stone 1 Hour Massage Session {1}',\n",
       " 'Couples Hot Stone 90 Min Massage Session',\n",
       " 'Couples Hot Stone 90 Min Massage Session {1}',\n",
       " 'Couples Prenatal 1 Hour Massage Session',\n",
       " 'Couples {Member}',\n",
       " 'Couples {Non-Member}',\n",
       " 'Cpls Him. Salt Stone 1 Hour Massage Session',\n",
       " 'Cpls Him. Salt Stone 1 Hour Massage Session {M}',\n",
       " 'Cpls Him. Salt Stone 2 Hour Massage Session',\n",
       " 'Cpls Him. Salt Stone 90 Min Massage Session {M}',\n",
       " 'Cupping - 1 Hour {Member}',\n",
       " 'Cupping - 1 Hour {Non-Member}',\n",
       " 'Cupping - 2 Hour {Member}',\n",
       " 'Cupping - 2 Hour {Non-Member}',\n",
       " 'Cupping - 90 Min {Member}',\n",
       " 'Cupping - 90 Min {Non-Member}',\n",
       " 'Cupping 1 Hour Massage Session',\n",
       " 'Cupping 1 Hour Massage Session {M}',\n",
       " 'Cupping 2 Hour Massage Session {M}',\n",
       " 'Cupping 90 Min Massage Session',\n",
       " 'Cupping 90 Min Massage Session {M}',\n",
       " 'Elite Level - 1 Hour {Member}',\n",
       " 'Elite Level - 1 Hour {Non-Member}',\n",
       " 'Elite Level - 2 Hour {Member}',\n",
       " 'Elite Level - 90 Min {Member}',\n",
       " 'Elite Level - 90 Min {Non-Member}',\n",
       " 'Gift Card Sales - Outside Event',\n",
       " 'Herbal Ritual',\n",
       " 'Herbal Ritual {Member}',\n",
       " 'Herbal Ritual {M}',\n",
       " 'Herbal Ritual {Non-Member}',\n",
       " 'Himalayan Salt Stone - 1 Hour {Member}',\n",
       " 'Himalayan Salt Stone - 1 Hour {Non-Member}',\n",
       " 'Himalayan Salt Stone - 2 Hour {Member}',\n",
       " 'Himalayan Salt Stone - 2 Hour {Non-Member}',\n",
       " 'Himalayan Salt Stone - 90 Min {Member}',\n",
       " 'Himalayan Salt Stone - 90 Min {Non-Member}',\n",
       " 'Himalayan Salt Stone 1 Hour Massage Session',\n",
       " 'Himalayan Salt Stone 1 Hour Massage Session {M}',\n",
       " 'Himalayan Salt Stone 1 Hour Massage Session {NA}',\n",
       " 'Himalayan Salt Stone 2 Hour Massage Session',\n",
       " 'Himalayan Salt Stone 2 Hour Massage Session {M}',\n",
       " 'Himalayan Salt Stone 90 Min Massage Session',\n",
       " 'Himalayan Salt Stone 90 Min Massage Session {M}',\n",
       " 'Himalayan Salt Stone 90 Min Massage Session {NA}',\n",
       " 'Hot Stone - 1 Hour {Member}',\n",
       " 'Hot Stone - 90 Min {Member}',\n",
       " 'Hot Stone 1 Hour Massage Session',\n",
       " 'Hot Stone 1 Hour Massage Session {1}',\n",
       " 'Hot Stone 1 Hour Massage Session {90}',\n",
       " 'Hot Stone 1 Hour Massage Session {M}',\n",
       " 'Hot Stone 2 Hour Massage Session {90}',\n",
       " 'Hot Stone 90 Min Massage Session',\n",
       " 'Hot Stone 90 Min Massage Session {1}',\n",
       " 'Hot Stone 90 Min Massage Session {90}',\n",
       " 'Late Cancel Fee',\n",
       " 'Late Cancel Fee - 1 Hour Session {Member}',\n",
       " 'Late Cancel Fee - 1 Hour Session {Non-Member}',\n",
       " 'Late Cancel Fee - 90 Min Session {Member}',\n",
       " 'Late Cancel Fee - 90 Min Session {Non-Member}',\n",
       " 'LocBox Purchase',\n",
       " 'Manager/Owner 1 Hour Massage Session',\n",
       " 'Manager/Owner 30 Min Massage Session',\n",
       " 'Manager/Owner 90 Min Massage Session',\n",
       " 'Manager/Owner Hot Stone 1 Hour Massage Session',\n",
       " 'Manager/Owner Hot Stone 90 Min Massage Session',\n",
       " 'Member Promo Special - 90-Minute',\n",
       " 'Member Promo Special 1 Hour Massage',\n",
       " 'Monthly - 1 Hour Massage Session',\n",
       " 'Monthly - 2 Hour Massage Session',\n",
       " 'Monthly - 90 Min Massage Session',\n",
       " 'New Member Signup {1}',\n",
       " 'New Member Signup {2}',\n",
       " 'New Member Signup {90}',\n",
       " 'New Member Signup {M}',\n",
       " 'Prenatal 1 Hour Massage Session',\n",
       " 'Prenatal 1 Hour Massage Session {1}',\n",
       " 'Prenatal 1 Hour Massage Session {M}',\n",
       " 'Prenatal 1 Hour Massage Session {Non-Member}',\n",
       " 'Prenatal 90 Min Massage Session',\n",
       " 'Prenatal 90 Min Massage Session {M}',\n",
       " 'Prenatal 90 Min Massage Session {Non-Member}',\n",
       " 'The Elements Promiseª',\n",
       " 'Therapist Trade 90 Min Massage Session',\n",
       " 'Wellness Program - 1 Hour',\n",
       " 'Wellness Program - 2 Hour',\n",
       " 'Wellness Program - 90 Min']"
      ]
     },
     "execution_count": 33,
     "metadata": {},
     "output_type": "execute_result"
    }
   ],
   "source": [
    "sorted(sales['Item name'].unique())"
   ]
  },
  {
   "cell_type": "code",
   "execution_count": 34,
   "metadata": {},
   "outputs": [
    {
     "data": {
      "text/plain": [
       "(77109, 15)"
      ]
     },
     "execution_count": 34,
     "metadata": {},
     "output_type": "execute_result"
    }
   ],
   "source": [
    "sales.shape"
   ]
  },
  {
   "cell_type": "code",
   "execution_count": 35,
   "metadata": {
    "colab": {
     "base_uri": "https://localhost:8080/",
     "height": 748
    },
    "id": "sAcvsQTKZTlv",
    "outputId": "00e3c62c-3606-4f6f-adb8-2484f281206d"
   },
   "outputs": [
    {
     "data": {
      "text/html": [
       "<div>\n",
       "<style scoped>\n",
       "    .dataframe tbody tr th:only-of-type {\n",
       "        vertical-align: middle;\n",
       "    }\n",
       "\n",
       "    .dataframe tbody tr th {\n",
       "        vertical-align: top;\n",
       "    }\n",
       "\n",
       "    .dataframe thead th {\n",
       "        text-align: right;\n",
       "    }\n",
       "</style>\n",
       "<table border=\"1\" class=\"dataframe\">\n",
       "  <thead>\n",
       "    <tr style=\"text-align: right;\">\n",
       "      <th></th>\n",
       "      <th>Item Description</th>\n",
       "      <th>Membership</th>\n",
       "    </tr>\n",
       "  </thead>\n",
       "  <tbody>\n",
       "    <tr>\n",
       "      <th>0</th>\n",
       "      <td>MONTHLY - 1 HOUR MASSAGE SESSION</td>\n",
       "      <td>Non-Member</td>\n",
       "    </tr>\n",
       "    <tr>\n",
       "      <th>1</th>\n",
       "      <td>MONTHLY - 1 HOUR MASSAGE SESSION</td>\n",
       "      <td>Non-Member</td>\n",
       "    </tr>\n",
       "    <tr>\n",
       "      <th>2</th>\n",
       "      <td>MONTHLY - 1 HOUR MASSAGE SESSION</td>\n",
       "      <td>Non-Member</td>\n",
       "    </tr>\n",
       "    <tr>\n",
       "      <th>3</th>\n",
       "      <td>MONTHLY - 90 MIN MASSAGE SESSION</td>\n",
       "      <td>Non-Member</td>\n",
       "    </tr>\n",
       "    <tr>\n",
       "      <th>4</th>\n",
       "      <td>MONTHLY - 90 MIN MASSAGE SESSION</td>\n",
       "      <td>Non-Member</td>\n",
       "    </tr>\n",
       "    <tr>\n",
       "      <th>...</th>\n",
       "      <td>...</td>\n",
       "      <td>...</td>\n",
       "    </tr>\n",
       "    <tr>\n",
       "      <th>77726</th>\n",
       "      <td>HERBAL RITUAL</td>\n",
       "      <td>Member</td>\n",
       "    </tr>\n",
       "    <tr>\n",
       "      <th>77727</th>\n",
       "      <td>ELITE LEVEL - 1 HOUR</td>\n",
       "      <td>Member</td>\n",
       "    </tr>\n",
       "    <tr>\n",
       "      <th>77728</th>\n",
       "      <td>HIMALAYAN SALT STONE - 90 MIN</td>\n",
       "      <td>Member</td>\n",
       "    </tr>\n",
       "    <tr>\n",
       "      <th>77729</th>\n",
       "      <td>90 MIN MASSAGE SESSION</td>\n",
       "      <td>Member</td>\n",
       "    </tr>\n",
       "    <tr>\n",
       "      <th>77730</th>\n",
       "      <td>AROMARITUAL (SEASONAL)</td>\n",
       "      <td>Member</td>\n",
       "    </tr>\n",
       "  </tbody>\n",
       "</table>\n",
       "<p>77109 rows × 2 columns</p>\n",
       "</div>"
      ],
      "text/plain": [
       "                       Item Description  Membership\n",
       "0      MONTHLY - 1 HOUR MASSAGE SESSION  Non-Member\n",
       "1      MONTHLY - 1 HOUR MASSAGE SESSION  Non-Member\n",
       "2      MONTHLY - 1 HOUR MASSAGE SESSION  Non-Member\n",
       "3      MONTHLY - 90 MIN MASSAGE SESSION  Non-Member\n",
       "4      MONTHLY - 90 MIN MASSAGE SESSION  Non-Member\n",
       "...                                 ...         ...\n",
       "77726                     HERBAL RITUAL      Member\n",
       "77727              ELITE LEVEL - 1 HOUR      Member\n",
       "77728     HIMALAYAN SALT STONE - 90 MIN      Member\n",
       "77729            90 MIN MASSAGE SESSION      Member\n",
       "77730            AROMARITUAL (SEASONAL)      Member\n",
       "\n",
       "[77109 rows x 2 columns]"
      ]
     },
     "execution_count": 35,
     "metadata": {},
     "output_type": "execute_result"
    }
   ],
   "source": [
    "sales['Col1'] = sales['Item name'].str.split('{').str[1]\n",
    "sales['Col1'].str.strip()\n",
    "sales['Item Description'] = sales['Item name'].str.split('{').str[0]\n",
    "sales['Item Description'] = sales['Item Description'].str.strip()\n",
    "sales['Item Description'] = sales['Item Description'].str.upper()\n",
    "sales['Col1'] = sales['Col1'].str.replace('}','')\n",
    "\n",
    "sales.loc[sales['Col1'] == '1', 'Membership'] = 'Member'\n",
    "sales.loc[sales['Col1'] == '2', 'Membership'] = 'Member'\n",
    "sales.loc[sales['Col1'] == 'M', 'Membership'] = 'Member'\n",
    "sales.loc[sales['Col1'] == '90', 'Membership'] = 'Member'\n",
    "sales.loc[sales['Col1'] == 'Member', 'Membership'] = 'Member'\n",
    "sales.loc[sales['Col1'] == 'National Access', 'Membership'] = 'National Access'\n",
    "sales.loc[sales['Col1'] == 'Non-Member', 'Membership'] = 'Non-Member'\n",
    "sales['Membership'] = sales['Membership'].fillna(\"Non-Member\")\n",
    "\n",
    "sales = sales.drop(['Col1', 'Item name'], axis=1)\n",
    "\n",
    "sales[['Item Description', 'Membership']]"
   ]
  },
  {
   "cell_type": "code",
   "execution_count": 36,
   "metadata": {
    "colab": {
     "base_uri": "https://localhost:8080/"
    },
    "id": "etK-VwsvaLTR",
    "outputId": "ebf0a34a-50fd-4954-893e-96658b0d52cb"
   },
   "outputs": [
    {
     "data": {
      "text/plain": [
       "array(['MONTHLY - 1 HOUR MASSAGE SESSION',\n",
       "       'MONTHLY - 90 MIN MASSAGE SESSION',\n",
       "       'MONTHLY - 2 HOUR MASSAGE SESSION', '1 HOUR MASSAGE SESSION',\n",
       "       '90 MIN MASSAGE SESSION', 'HOT STONE 90 MIN MASSAGE SESSION',\n",
       "       'WELLNESS PROGRAM - 90 MIN', 'NEW MEMBER SIGNUP',\n",
       "       'WELLNESS PROGRAM - 1 HOUR', 'LOCBOX PURCHASE',\n",
       "       'AROMATHERAPY ADD-ON', 'LATE CANCEL FEE', '30 MIN MASSAGE SESSION',\n",
       "       'HIMALAYAN SALT STONE 1 HOUR MASSAGE SESSION',\n",
       "       'HOT STONE 1 HOUR MASSAGE SESSION',\n",
       "       'COUPLES 1 HOUR MASSAGE SESSION',\n",
       "       'HOT STONE 2 HOUR MASSAGE SESSION',\n",
       "       'COUPLES 90 MIN MASSAGE SESSION', '2 HOUR MASSAGE SESSION',\n",
       "       'PRENATAL 1 HOUR MASSAGE SESSION',\n",
       "       'HIMALAYAN SALT STONE 90 MIN MASSAGE SESSION',\n",
       "       'COUPLES PRENATAL 1 HOUR MASSAGE SESSION',\n",
       "       'COUPLES HOT STONE 90 MIN MASSAGE SESSION',\n",
       "       'COUPLES HOT STONE 1 HOUR MASSAGE SESSION',\n",
       "       'MEMBER PROMO SPECIAL 1 HOUR MASSAGE',\n",
       "       'GIFT CARD SALES - OUTSIDE EVENT',\n",
       "       'CHAIR MASSAGE SESSION - OUTCALL', 'ASSOCIATE MEMBER',\n",
       "       'WELLNESS PROGRAM - 2 HOUR',\n",
       "       'HIMALAYAN SALT STONE 2 HOUR MASSAGE SESSION',\n",
       "       'CPLS HIM. SALT STONE 1 HOUR MASSAGE SESSION',\n",
       "       'AROMATHERAPY (SEASONAL) ADD-ON', 'HERBAL RITUAL',\n",
       "       'CPLS HIM. SALT STONE 90 MIN MASSAGE SESSION',\n",
       "       'MANAGER/OWNER 1 HOUR MASSAGE SESSION', 'AROMARITUAL REFRESH',\n",
       "       'AROMARITUAL ENERGIZE', 'AROMARITUAL CALM',\n",
       "       'MEMBER PROMO SPECIAL - 90-MINUTE', 'CUPPING - 1 HOUR',\n",
       "       'MANAGER/OWNER 90 MIN MASSAGE SESSION',\n",
       "       'MANAGER/OWNER HOT STONE 1 HOUR MASSAGE SESSION',\n",
       "       'CUPPING - 90 MIN', 'CUPPING 1 HOUR MASSAGE SESSION',\n",
       "       'HIMALAYAN SALT STONE - 1 HOUR', 'AROMARITUAL (SEASONAL)',\n",
       "       'PRENATAL 90 MIN MASSAGE SESSION',\n",
       "       'MANAGER/OWNER HOT STONE 90 MIN MASSAGE SESSION',\n",
       "       'CUPPING 90 MIN MASSAGE SESSION',\n",
       "       'CPLS HIM. SALT STONE 2 HOUR MASSAGE SESSION',\n",
       "       'CUPPING 2 HOUR MASSAGE SESSION',\n",
       "       'COUPLES CUPPING 90 MIN MASSAGE SESSION',\n",
       "       'AROMARITUAL SWEET ORANGE', 'HIMALAYAN SALT STONE - 90 MIN',\n",
       "       'COUPLES', 'CUPPING - 2 HOUR', 'HOT STONE - 90 MIN',\n",
       "       'LATE CANCEL FEE - 1 HOUR SESSION',\n",
       "       'LATE CANCEL FEE - 90 MIN SESSION',\n",
       "       'HIMALAYAN SALT STONE - 2 HOUR', 'HOT STONE - 1 HOUR',\n",
       "       'THE ELEMENTS PROMISEª', 'ELITE LEVEL - 90 MIN',\n",
       "       'THERAPIST TRADE 90 MIN MASSAGE SESSION', 'ELITE LEVEL - 1 HOUR',\n",
       "       'ELITE LEVEL - 2 HOUR', 'MANAGER/OWNER 30 MIN MASSAGE SESSION'],\n",
       "      dtype=object)"
      ]
     },
     "execution_count": 36,
     "metadata": {},
     "output_type": "execute_result"
    }
   ],
   "source": [
    "sales['Item Description'].unique()"
   ]
  },
  {
   "cell_type": "code",
   "execution_count": 37,
   "metadata": {},
   "outputs": [],
   "source": [
    "import re\n",
    "\n",
    "def find_time_in_description(description):\n",
    "    # Use regex to find matches for hours and minutes, converting them to total minutes\n",
    "    # Matching the full words 'hour' or 'minute' to prevent partial matches like '1' for '1 hour'\n",
    "    hour_matches = re.findall(r'(\\d+)\\s*(hours?|hrs?)', description, re.IGNORECASE)\n",
    "    minute_matches = re.findall(r'(\\d+)\\s*(minutes?|mins?)', description, re.IGNORECASE)\n",
    "    \n",
    "    # Convert hours to minutes and sum up the total minutes\n",
    "    total_minutes = sum(int(value) * 60 for value, _ in hour_matches) + \\\n",
    "                    sum(int(value) for value, _ in minute_matches)\n",
    "    return total_minutes if total_minutes > 0 else None\n",
    "\n",
    "# Apply the corrected function to the 'Item Description' column\n",
    "sales['Service Time'] = sales['Item Description'].apply(find_time_in_description)"
   ]
  },
  {
   "cell_type": "code",
   "execution_count": 38,
   "metadata": {},
   "outputs": [
    {
     "data": {
      "text/plain": [
       "['AROMARITUAL (SEASONAL)',\n",
       " 'AROMARITUAL CALM',\n",
       " 'AROMARITUAL ENERGIZE',\n",
       " 'AROMARITUAL REFRESH',\n",
       " 'AROMARITUAL SWEET ORANGE',\n",
       " 'AROMATHERAPY (SEASONAL) ADD-ON',\n",
       " 'AROMATHERAPY ADD-ON',\n",
       " 'ASSOCIATE MEMBER',\n",
       " 'CHAIR MASSAGE SESSION - OUTCALL',\n",
       " 'COUPLES',\n",
       " 'COUPLES CUPPING MASSAGE SESSION',\n",
       " 'COUPLES HOT STONE MASSAGE SESSION',\n",
       " 'COUPLES MASSAGE SESSION',\n",
       " 'COUPLES PRENATAL MASSAGE SESSION',\n",
       " 'CPLS HIM. SALT STONE MASSAGE SESSION',\n",
       " 'CUPPING',\n",
       " 'CUPPING -',\n",
       " 'CUPPING MASSAGE SESSION',\n",
       " 'ELITE LEVEL',\n",
       " 'ELITE LEVEL -',\n",
       " 'GIFT CARD SALES - OUTSIDE EVENT',\n",
       " 'HERBAL RITUAL',\n",
       " 'HIMALAYAN SALT STONE',\n",
       " 'HIMALAYAN SALT STONE -',\n",
       " 'HIMALAYAN SALT STONE MASSAGE SESSION',\n",
       " 'HOT STONE',\n",
       " 'HOT STONE -',\n",
       " 'HOT STONE MASSAGE SESSION',\n",
       " 'LATE CANCEL FEE',\n",
       " 'LATE CANCEL FEE SESSION',\n",
       " 'LOCBOX PURCHASE',\n",
       " 'MANAGER/OWNER HOT STONE MASSAGE SESSION',\n",
       " 'MANAGER/OWNER MASSAGE SESSION',\n",
       " 'MASSAGE SESSION',\n",
       " 'MEMBER PROMO SPECIAL',\n",
       " 'MEMBER PROMO SPECIAL MASSAGE',\n",
       " 'MONTHLY MASSAGE SESSION',\n",
       " 'NEW MEMBER SIGNUP',\n",
       " 'PRENATAL MASSAGE SESSION',\n",
       " 'THE ELEMENTS PROMISEª',\n",
       " 'THERAPIST TRADE MASSAGE SESSION',\n",
       " 'WELLNESS PROGRAM',\n",
       " 'WELLNESS PROGRAM -']"
      ]
     },
     "execution_count": 38,
     "metadata": {},
     "output_type": "execute_result"
    }
   ],
   "source": [
    "patterns_to_remove = [\n",
    "    \"- 1 HOUR \", \"- 90 MIN \", \"- 2 HOUR \", \"30 MIN \", \"1 HOUR \", \"2 HOUR \", \" - 1 HOUR\", \" 90 MIN\", \" - 90 MIN\", \" - 2 HOUR\", \" - 90-MINUTE\", \"90 MIN \"\n",
    "]\n",
    "\n",
    "# Replace the specified patterns with an empty string if they do not end with a blank\n",
    "for pattern in patterns_to_remove:\n",
    "    sales['Item Description'] = sales['Item Description'].str.replace(pattern, '', regex=False)\n",
    "\n",
    "# Display the first few rows to confirm changes\n",
    "sorted(sales['Item Description'].unique())"
   ]
  },
  {
   "cell_type": "code",
   "execution_count": 39,
   "metadata": {},
   "outputs": [
    {
     "data": {
      "text/plain": [
       "['AROMARITUAL (SEASONAL)',\n",
       " 'AROMARITUAL CALM',\n",
       " 'AROMARITUAL ENERGIZE',\n",
       " 'AROMARITUAL REFRESH',\n",
       " 'AROMARITUAL SWEET ORANGE',\n",
       " 'AROMATHERAPY (SEASONAL) ADD-ON',\n",
       " 'AROMATHERAPY ADD-ON',\n",
       " 'ASSOCIATE MEMBER',\n",
       " 'CHAIR MASSAGE SESSION - OUTCALL',\n",
       " 'COUPLES',\n",
       " 'COUPLES CUPPING MASSAGE SESSION',\n",
       " 'COUPLES HOT STONE MASSAGE SESSION',\n",
       " 'COUPLES MASSAGE SESSION',\n",
       " 'COUPLES PRENATAL MASSAGE SESSION',\n",
       " 'CPLS HIM. SALT STONE MASSAGE SESSION',\n",
       " 'CUPPING',\n",
       " 'CUPPING MASSAGE SESSION',\n",
       " 'ELITE LEVEL',\n",
       " 'GIFT CARD SALES - OUTSIDE EVENT',\n",
       " 'HERBAL RITUAL',\n",
       " 'HIMALAYAN SALT STONE',\n",
       " 'HIMALAYAN SALT STONE MASSAGE SESSION',\n",
       " 'HOT STONE',\n",
       " 'HOT STONE MASSAGE SESSION',\n",
       " 'LATE CANCEL FEE',\n",
       " 'LATE CANCEL FEE SESSION',\n",
       " 'LOCBOX PURCHASE',\n",
       " 'MANAGER/OWNER HOT STONE MASSAGE SESSION',\n",
       " 'MANAGER/OWNER MASSAGE SESSION',\n",
       " 'MASSAGE SESSION',\n",
       " 'MEMBER PROMO SPECIAL',\n",
       " 'MEMBER PROMO SPECIAL MASSAGE',\n",
       " 'MONTHLY MASSAGE SESSION',\n",
       " 'NEW MEMBER SIGNUP',\n",
       " 'PRENATAL MASSAGE SESSION',\n",
       " 'THE ELEMENTS PROMISEª',\n",
       " 'THERAPIST TRADE MASSAGE SESSION',\n",
       " 'WELLNESS PROGRAM']"
      ]
     },
     "execution_count": 39,
     "metadata": {},
     "output_type": "execute_result"
    }
   ],
   "source": [
    "sales['Item Description'] = sales['Item Description'].str.rstrip(\" -\")\n",
    "sorted(sales['Item Description'].unique())"
   ]
  },
  {
   "cell_type": "code",
   "execution_count": 40,
   "metadata": {},
   "outputs": [
    {
     "data": {
      "text/plain": [
       "(77109, 17)"
      ]
     },
     "execution_count": 40,
     "metadata": {},
     "output_type": "execute_result"
    }
   ],
   "source": [
    "sales.shape"
   ]
  },
  {
   "cell_type": "code",
   "execution_count": 41,
   "metadata": {},
   "outputs": [
    {
     "data": {
      "text/plain": [
       "['AROMARITUAL (SEASONAL)',\n",
       " 'AROMARITUAL CALM',\n",
       " 'AROMARITUAL ENERGIZE',\n",
       " 'AROMARITUAL REFRESH',\n",
       " 'AROMARITUAL SWEET ORANGE',\n",
       " 'AROMATHERAPY (SEASONAL) ADD-ON',\n",
       " 'AROMATHERAPY ADD-ON',\n",
       " 'ASSOCIATE MEMBER',\n",
       " 'CHAIR MASSAGE SESSION - OUTCALL',\n",
       " 'COUPLES CUPPING MASSAGE SESSION',\n",
       " 'COUPLES HOT STONE MASSAGE SESSION',\n",
       " 'COUPLES MASSAGE SESSION',\n",
       " 'COUPLES PRENATAL MASSAGE SESSION',\n",
       " 'CPLS HIM. SALT STONE MASSAGE SESSION',\n",
       " 'CUPPING MASSAGE SESSION',\n",
       " 'ELITE LEVEL',\n",
       " 'GIFT CARD SALES - OUTSIDE EVENT',\n",
       " 'HERBAL RITUAL',\n",
       " 'HIMALAYAN SALT STONE MASSAGE SESSION',\n",
       " 'HOT STONE MASSAGE SESSION',\n",
       " 'LATE CANCEL FEE',\n",
       " 'LOCBOX PURCHASE',\n",
       " 'MANAGER/OWNER HOT STONE MASSAGE SESSION',\n",
       " 'MANAGER/OWNER MASSAGE SESSION',\n",
       " 'MASSAGE SESSION',\n",
       " 'MEMBER PROMO SPECIAL MASSAGE SESSION',\n",
       " 'MONTHLY MASSAGE SESSION',\n",
       " 'NEW MEMBER SIGNUP',\n",
       " 'PRENATAL MASSAGE SESSION',\n",
       " 'THE ELEMENTS PROMISEª',\n",
       " 'THERAPIST TRADE MASSAGE SESSION',\n",
       " 'WELLNESS PROGRAM']"
      ]
     },
     "execution_count": 41,
     "metadata": {},
     "output_type": "execute_result"
    }
   ],
   "source": [
    "sales['Item Description'] = sales['Item Description'].apply(lambda x: \"CUPPING MASSAGE SESSION\" if x == \"CUPPING\" else x)\n",
    "sales['Item Description'] = sales['Item Description'].apply(lambda x: \"COUPLES MASSAGE SESSION\" if x == \"COUPLES\" else x)\n",
    "sales['Item Description'] = sales['Item Description'].apply(lambda x: \"HOT STONE MASSAGE SESSION\" if x == \"HOT STONE\" else x)\n",
    "sales['Item Description'] = sales['Item Description'].apply(lambda x: \"MEMBER PROMO SPECIAL MASSAGE SESSION\" if x == \"MEMBER PROMO SPECIAL\" else x)\n",
    "sales['Item Description'] = sales['Item Description'].apply(lambda x: \"HIMALAYAN SALT STONE MASSAGE SESSION\" if x == \"HIMALAYAN SALT STONE\" else x)\n",
    "sales['Item Description'] = sales['Item Description'].apply(lambda x: \"MEMBER PROMO SPECIAL MASSAGE SESSION\" if x == \"MEMBER PROMO SPECIAL MASSAGE\" else x)\n",
    "\n",
    "sales['Item Description'] = sales['Item Description'].apply(lambda x: \"LATE CANCEL FEE\" if x == \"LATE CANCEL FEE SESSION\" else x)\n",
    "sales['Item Description'] = sales['Item Description'].apply(lambda x: \"LATE CANCEL FEE\" if x == \"LATE CANCEL FEE MASSAGE SESSION\" else x)\n",
    "\n",
    "sorted(sales['Item Description'].unique())"
   ]
  },
  {
   "cell_type": "code",
   "execution_count": 42,
   "metadata": {},
   "outputs": [
    {
     "data": {
      "text/plain": [
       "(77109, 17)"
      ]
     },
     "execution_count": 42,
     "metadata": {},
     "output_type": "execute_result"
    }
   ],
   "source": [
    "sales.shape"
   ]
  },
  {
   "cell_type": "code",
   "execution_count": 43,
   "metadata": {},
   "outputs": [
    {
     "data": {
      "text/plain": [
       "(77109, 17)"
      ]
     },
     "execution_count": 43,
     "metadata": {},
     "output_type": "execute_result"
    }
   ],
   "source": [
    "sales.shape"
   ]
  },
  {
   "cell_type": "markdown",
   "metadata": {},
   "source": [
    "#### Add Summarized Features"
   ]
  },
  {
   "cell_type": "code",
   "execution_count": 44,
   "metadata": {
    "scrolled": true
   },
   "outputs": [
    {
     "name": "stderr",
     "output_type": "stream",
     "text": [
      "/var/folders/dw/5lrf5nls49q7nfzf83vn454h0000gn/T/ipykernel_89113/739570288.py:2: UserWarning: Could not infer format, so each element will be parsed individually, falling back to `dateutil`. To ensure parsing is consistent and as-expected, please specify a format.\n",
      "  sales['Sale Date'] = pd.to_datetime(sales['Sale Date'])\n"
     ]
    }
   ],
   "source": [
    "# Convert 'Sale Date' to datetime for accurate processing\n",
    "sales['Sale Date'] = pd.to_datetime(sales['Sale Date'])\n",
    "\n",
    "# Calculate first and last sale date for each client\n",
    "sales['First_Sale_Date'] = sales.groupby('Client ID')['Sale Date'].transform('min')\n",
    "sales['Last_Sale_Date'] = sales.groupby('Client ID')['Sale Date'].transform('max')\n",
    "\n",
    "# Calculate sale frequency for each client ID\n",
    "sales['Sale_Frequency'] = sales.groupby('Client ID')['Sale Date'].transform('count')\n",
    "\n",
    "# Get the last sale membership for each client ID\n",
    "sales_sorted = sales.sort_values(by=['Client ID', 'Sale Date'])\n",
    "last_sale_membership = sales_sorted.drop_duplicates('Client ID', keep='last')[['Client ID', 'Membership']]\n",
    "sales = sales.merge(last_sale_membership.rename(columns={'Membership': 'Last_Sale_Membership'}), on='Client ID', how='left')\n",
    "\n",
    "# Calculate the preferred service time for each client ID\n",
    "sales['Preferred_Service_Time'] = sales.groupby('Client ID')['Service Time'].transform(lambda x: x.mode()[0] if not x.mode().empty else None)\n",
    "\n",
    "# Calculate the favorite item for each client ID\n",
    "sales['Favorite_Item'] = sales.groupby('Client ID')['Item Description'].transform(lambda x: x.mode()[0] if not x.mode().empty else None)\n",
    "\n",
    "# Determine if ever purchased addons\n",
    "addon_descriptions = ['AROMATHERAPY (SEASONAL) ADD-ON', 'AROMATHERAPY ADD-ON']\n",
    "sales['Ever_Purchased_Addons'] = sales['Item Description'].apply(lambda x: 1 if x in addon_descriptions else 0).groupby(sales['Client ID']).transform('max')\n",
    "\n",
    "# Determine if ever purchased chair session\n",
    "chair_session_description = 'CHAIR MASSAGE SESSION - OUTCALL'\n",
    "sales['Ever_Purchased_Chair_Session'] = sales['Item Description'].apply(lambda x: 1 if x == chair_session_description else 0).groupby(sales['Client ID']).transform('max')\n",
    "\n",
    "# Determine if ever purchased manager/owner session\n",
    "manager_owner_descriptions = ['MANAGER/OWNER MASSAGE SESSION', 'MASSAGE SESSION']\n",
    "sales['Ever_Purchased_Manager_Owner_Session'] = sales['Item Description'].apply(lambda x: 1 if x in manager_owner_descriptions else 0).groupby(sales['Client ID']).transform('max')\n",
    "\n",
    "# Determine if ever late cancel\n",
    "late_cancel_description = 'LATE CANCEL FEE'\n",
    "sales['Ever_Late_Cancel'] = sales['Item Description'].apply(lambda x: 1 if x == late_cancel_description else 0).groupby(sales['Client ID']).transform('max')"
   ]
  },
  {
   "cell_type": "code",
   "execution_count": 45,
   "metadata": {},
   "outputs": [
    {
     "data": {
      "text/plain": [
       "(77109, 27)"
      ]
     },
     "execution_count": 45,
     "metadata": {},
     "output_type": "execute_result"
    }
   ],
   "source": [
    "sales.shape"
   ]
  },
  {
   "cell_type": "code",
   "execution_count": 46,
   "metadata": {},
   "outputs": [
    {
     "name": "stderr",
     "output_type": "stream",
     "text": [
      "/var/folders/dw/5lrf5nls49q7nfzf83vn454h0000gn/T/ipykernel_89113/682662553.py:14: FutureWarning: A value is trying to be set on a copy of a DataFrame or Series through chained assignment using an inplace method.\n",
      "The behavior will change in pandas 3.0. This inplace method will never work because the intermediate object on which we are setting values always behaves as a copy.\n",
      "\n",
      "For example, when doing 'df[col].method(value, inplace=True)', try using 'df.method({col: value}, inplace=True)' or df[col] = df[col].method(value) instead, to perform the operation inplace on the original object.\n",
      "\n",
      "\n",
      "  sales['Non_Member_Count'].fillna(0, inplace=True)\n",
      "/var/folders/dw/5lrf5nls49q7nfzf83vn454h0000gn/T/ipykernel_89113/682662553.py:20: FutureWarning: A value is trying to be set on a copy of a DataFrame or Series through chained assignment using an inplace method.\n",
      "The behavior will change in pandas 3.0. This inplace method will never work because the intermediate object on which we are setting values always behaves as a copy.\n",
      "\n",
      "For example, when doing 'df[col].method(value, inplace=True)', try using 'df.method({col: value}, inplace=True)' or df[col] = df[col].method(value) instead, to perform the operation inplace on the original object.\n",
      "\n",
      "\n",
      "  sales['Non_Member_Purchase_Rate'].fillna(0, inplace=True)\n"
     ]
    }
   ],
   "source": [
    "# Calculate the total sales count for each client\n",
    "total_sales_count = sales.groupby('Client ID')['Membership'].transform('count')\n",
    "\n",
    "# Calculate the 'Non-Member' sales count for each client\n",
    "non_member_sales_count = sales[sales['Membership'] == 'Non-Member'].groupby('Client ID')['Membership'].transform('count')\n",
    "\n",
    "# Create a temporary DataFrame to hold 'Non-Member' counts with Client IDs as index\n",
    "non_member_counts_df = sales[sales['Membership'] == 'Non-Member'].groupby('Client ID').size().to_frame('Non_Member_Count')\n",
    "\n",
    "# Map the 'Non-Member' counts back to the original sales DataFrame\n",
    "sales = sales.join(non_member_counts_df, on='Client ID', how='left')\n",
    "\n",
    "# Fill NaN values in 'Non_Member_Count' with 0 for clients without 'Non-Member' sales\n",
    "sales['Non_Member_Count'].fillna(0, inplace=True)\n",
    "\n",
    "# Calculate the Non_Member_Purchase_Rate\n",
    "sales['Non_Member_Purchase_Rate'] = sales['Non_Member_Count'] / total_sales_count\n",
    "\n",
    "# Ensure no NaN values exist in the rate column, fill with 0 if necessary\n",
    "sales['Non_Member_Purchase_Rate'].fillna(0, inplace=True)"
   ]
  },
  {
   "cell_type": "code",
   "execution_count": 47,
   "metadata": {},
   "outputs": [],
   "source": [
    "# Add First_Member_Purchase_Date\n",
    "# Group by 'Client ID' and filter for 'Membership' is \"Member\", then get the first 'Sale Date'\n",
    "first_member_purchase_date = sales[sales['Membership'] == \"Member\"].groupby('Client ID')['Sale Date'].min().rename('First_Member_Purchase_Date')\n",
    "\n",
    "# Merge this information back to the original dataframe\n",
    "sales = sales.merge(first_member_purchase_date, on='Client ID', how='left')"
   ]
  },
  {
   "cell_type": "code",
   "execution_count": 48,
   "metadata": {},
   "outputs": [
    {
     "data": {
      "text/plain": [
       "(77109, 30)"
      ]
     },
     "execution_count": 48,
     "metadata": {},
     "output_type": "execute_result"
    }
   ],
   "source": [
    "sales.shape"
   ]
  },
  {
   "cell_type": "markdown",
   "metadata": {},
   "source": [
    "### Group by"
   ]
  },
  {
   "cell_type": "code",
   "execution_count": 49,
   "metadata": {},
   "outputs": [],
   "source": [
    "grouped_sales = sales.groupby('Client ID').agg({\n",
    "    'First_Sale_Date': 'max',\n",
    "    'Last_Sale_Date': 'max',\n",
    "    'Sale_Frequency': 'max',\n",
    "    'Last_Sale_Membership': 'max',\n",
    "    'Preferred_Service_Time': 'max',\n",
    "    'Favorite_Item': 'max',\n",
    "    'Ever_Purchased_Addons': 'max',\n",
    "    'Ever_Purchased_Chair_Session': 'max',\n",
    "    'Ever_Purchased_Manager_Owner_Session': 'max',\n",
    "    'Ever_Late_Cancel': 'first',\n",
    "    'Non_Member_Purchase_Rate': 'max',\n",
    "    'First_Member_Purchase_Date': 'max'}).reset_index()"
   ]
  },
  {
   "cell_type": "code",
   "execution_count": 50,
   "metadata": {},
   "outputs": [
    {
     "data": {
      "text/plain": [
       "(6908, 13)"
      ]
     },
     "execution_count": 50,
     "metadata": {},
     "output_type": "execute_result"
    }
   ],
   "source": [
    "grouped_sales.shape"
   ]
  },
  {
   "cell_type": "code",
   "execution_count": 51,
   "metadata": {},
   "outputs": [
    {
     "name": "stdout",
     "output_type": "stream",
     "text": [
      "<class 'pandas.core.frame.DataFrame'>\n",
      "RangeIndex: 6908 entries, 0 to 6907\n",
      "Data columns (total 13 columns):\n",
      " #   Column                                Non-Null Count  Dtype         \n",
      "---  ------                                --------------  -----         \n",
      " 0   Client ID                             6908 non-null   object        \n",
      " 1   First_Sale_Date                       6908 non-null   datetime64[ns]\n",
      " 2   Last_Sale_Date                        6908 non-null   datetime64[ns]\n",
      " 3   Sale_Frequency                        6908 non-null   int64         \n",
      " 4   Last_Sale_Membership                  6908 non-null   object        \n",
      " 5   Preferred_Service_Time                6844 non-null   float64       \n",
      " 6   Favorite_Item                         6908 non-null   object        \n",
      " 7   Ever_Purchased_Addons                 6908 non-null   int64         \n",
      " 8   Ever_Purchased_Chair_Session          6908 non-null   int64         \n",
      " 9   Ever_Purchased_Manager_Owner_Session  6908 non-null   int64         \n",
      " 10  Ever_Late_Cancel                      6908 non-null   int64         \n",
      " 11  Non_Member_Purchase_Rate              6908 non-null   float64       \n",
      " 12  First_Member_Purchase_Date            2660 non-null   datetime64[ns]\n",
      "dtypes: datetime64[ns](3), float64(2), int64(5), object(3)\n",
      "memory usage: 701.7+ KB\n"
     ]
    }
   ],
   "source": [
    "grouped_sales.info()"
   ]
  },
  {
   "cell_type": "code",
   "execution_count": 52,
   "metadata": {},
   "outputs": [
    {
     "data": {
      "text/html": [
       "<div>\n",
       "<style scoped>\n",
       "    .dataframe tbody tr th:only-of-type {\n",
       "        vertical-align: middle;\n",
       "    }\n",
       "\n",
       "    .dataframe tbody tr th {\n",
       "        vertical-align: top;\n",
       "    }\n",
       "\n",
       "    .dataframe thead th {\n",
       "        text-align: right;\n",
       "    }\n",
       "</style>\n",
       "<table border=\"1\" class=\"dataframe\">\n",
       "  <thead>\n",
       "    <tr style=\"text-align: right;\">\n",
       "      <th></th>\n",
       "      <th>First_Sale_Date</th>\n",
       "      <th>Last_Sale_Date</th>\n",
       "      <th>Sale_Frequency</th>\n",
       "      <th>Preferred_Service_Time</th>\n",
       "      <th>Ever_Purchased_Addons</th>\n",
       "      <th>Ever_Purchased_Chair_Session</th>\n",
       "      <th>Ever_Purchased_Manager_Owner_Session</th>\n",
       "      <th>Ever_Late_Cancel</th>\n",
       "      <th>Non_Member_Purchase_Rate</th>\n",
       "      <th>First_Member_Purchase_Date</th>\n",
       "    </tr>\n",
       "  </thead>\n",
       "  <tbody>\n",
       "    <tr>\n",
       "      <th>count</th>\n",
       "      <td>6908</td>\n",
       "      <td>6908</td>\n",
       "      <td>6908.000000</td>\n",
       "      <td>6844.000000</td>\n",
       "      <td>6908.000000</td>\n",
       "      <td>6908.000000</td>\n",
       "      <td>6908.000000</td>\n",
       "      <td>6908.000000</td>\n",
       "      <td>6908.000000</td>\n",
       "      <td>2660</td>\n",
       "    </tr>\n",
       "    <tr>\n",
       "      <th>mean</th>\n",
       "      <td>2020-07-20 18:45:14.070642688</td>\n",
       "      <td>2021-07-05 22:14:18.830341632</td>\n",
       "      <td>11.162276</td>\n",
       "      <td>69.007890</td>\n",
       "      <td>0.006369</td>\n",
       "      <td>0.000145</td>\n",
       "      <td>0.876954</td>\n",
       "      <td>0.021135</td>\n",
       "      <td>0.879196</td>\n",
       "      <td>2020-07-29 18:47:38.345864704</td>\n",
       "    </tr>\n",
       "    <tr>\n",
       "      <th>min</th>\n",
       "      <td>2017-01-01 00:00:00</td>\n",
       "      <td>2017-01-01 00:00:00</td>\n",
       "      <td>1.000000</td>\n",
       "      <td>30.000000</td>\n",
       "      <td>0.000000</td>\n",
       "      <td>0.000000</td>\n",
       "      <td>0.000000</td>\n",
       "      <td>0.000000</td>\n",
       "      <td>0.000000</td>\n",
       "      <td>2017-01-02 00:00:00</td>\n",
       "    </tr>\n",
       "    <tr>\n",
       "      <th>25%</th>\n",
       "      <td>2018-06-21 18:00:00</td>\n",
       "      <td>2019-06-27 06:00:00</td>\n",
       "      <td>1.000000</td>\n",
       "      <td>60.000000</td>\n",
       "      <td>0.000000</td>\n",
       "      <td>0.000000</td>\n",
       "      <td>1.000000</td>\n",
       "      <td>0.000000</td>\n",
       "      <td>0.818182</td>\n",
       "      <td>2018-05-01 18:00:00</td>\n",
       "    </tr>\n",
       "    <tr>\n",
       "      <th>50%</th>\n",
       "      <td>2021-03-08 12:00:00</td>\n",
       "      <td>2022-03-04 00:00:00</td>\n",
       "      <td>2.000000</td>\n",
       "      <td>60.000000</td>\n",
       "      <td>0.000000</td>\n",
       "      <td>0.000000</td>\n",
       "      <td>1.000000</td>\n",
       "      <td>0.000000</td>\n",
       "      <td>1.000000</td>\n",
       "      <td>2021-04-06 00:00:00</td>\n",
       "    </tr>\n",
       "    <tr>\n",
       "      <th>75%</th>\n",
       "      <td>2022-07-05 00:00:00</td>\n",
       "      <td>2023-07-03 00:00:00</td>\n",
       "      <td>10.000000</td>\n",
       "      <td>90.000000</td>\n",
       "      <td>0.000000</td>\n",
       "      <td>0.000000</td>\n",
       "      <td>1.000000</td>\n",
       "      <td>0.000000</td>\n",
       "      <td>1.000000</td>\n",
       "      <td>2022-08-02 00:00:00</td>\n",
       "    </tr>\n",
       "    <tr>\n",
       "      <th>max</th>\n",
       "      <td>2023-12-30 00:00:00</td>\n",
       "      <td>2023-12-31 00:00:00</td>\n",
       "      <td>726.000000</td>\n",
       "      <td>120.000000</td>\n",
       "      <td>1.000000</td>\n",
       "      <td>1.000000</td>\n",
       "      <td>1.000000</td>\n",
       "      <td>1.000000</td>\n",
       "      <td>1.000000</td>\n",
       "      <td>2023-12-30 00:00:00</td>\n",
       "    </tr>\n",
       "    <tr>\n",
       "      <th>std</th>\n",
       "      <td>NaN</td>\n",
       "      <td>NaN</td>\n",
       "      <td>23.129329</td>\n",
       "      <td>14.231564</td>\n",
       "      <td>0.079560</td>\n",
       "      <td>0.012032</td>\n",
       "      <td>0.328513</td>\n",
       "      <td>0.143844</td>\n",
       "      <td>0.214785</td>\n",
       "      <td>NaN</td>\n",
       "    </tr>\n",
       "  </tbody>\n",
       "</table>\n",
       "</div>"
      ],
      "text/plain": [
       "                     First_Sale_Date                 Last_Sale_Date  \\\n",
       "count                           6908                           6908   \n",
       "mean   2020-07-20 18:45:14.070642688  2021-07-05 22:14:18.830341632   \n",
       "min              2017-01-01 00:00:00            2017-01-01 00:00:00   \n",
       "25%              2018-06-21 18:00:00            2019-06-27 06:00:00   \n",
       "50%              2021-03-08 12:00:00            2022-03-04 00:00:00   \n",
       "75%              2022-07-05 00:00:00            2023-07-03 00:00:00   \n",
       "max              2023-12-30 00:00:00            2023-12-31 00:00:00   \n",
       "std                              NaN                            NaN   \n",
       "\n",
       "       Sale_Frequency  Preferred_Service_Time  Ever_Purchased_Addons  \\\n",
       "count     6908.000000             6844.000000            6908.000000   \n",
       "mean        11.162276               69.007890               0.006369   \n",
       "min          1.000000               30.000000               0.000000   \n",
       "25%          1.000000               60.000000               0.000000   \n",
       "50%          2.000000               60.000000               0.000000   \n",
       "75%         10.000000               90.000000               0.000000   \n",
       "max        726.000000              120.000000               1.000000   \n",
       "std         23.129329               14.231564               0.079560   \n",
       "\n",
       "       Ever_Purchased_Chair_Session  Ever_Purchased_Manager_Owner_Session  \\\n",
       "count                   6908.000000                           6908.000000   \n",
       "mean                       0.000145                              0.876954   \n",
       "min                        0.000000                              0.000000   \n",
       "25%                        0.000000                              1.000000   \n",
       "50%                        0.000000                              1.000000   \n",
       "75%                        0.000000                              1.000000   \n",
       "max                        1.000000                              1.000000   \n",
       "std                        0.012032                              0.328513   \n",
       "\n",
       "       Ever_Late_Cancel  Non_Member_Purchase_Rate  \\\n",
       "count       6908.000000               6908.000000   \n",
       "mean           0.021135                  0.879196   \n",
       "min            0.000000                  0.000000   \n",
       "25%            0.000000                  0.818182   \n",
       "50%            0.000000                  1.000000   \n",
       "75%            0.000000                  1.000000   \n",
       "max            1.000000                  1.000000   \n",
       "std            0.143844                  0.214785   \n",
       "\n",
       "          First_Member_Purchase_Date  \n",
       "count                           2660  \n",
       "mean   2020-07-29 18:47:38.345864704  \n",
       "min              2017-01-02 00:00:00  \n",
       "25%              2018-05-01 18:00:00  \n",
       "50%              2021-04-06 00:00:00  \n",
       "75%              2022-08-02 00:00:00  \n",
       "max              2023-12-30 00:00:00  \n",
       "std                              NaN  "
      ]
     },
     "execution_count": 52,
     "metadata": {},
     "output_type": "execute_result"
    }
   ],
   "source": [
    "grouped_sales.describe()"
   ]
  },
  {
   "cell_type": "markdown",
   "metadata": {
    "id": "Khhtj-4My7Dj"
   },
   "source": [
    "## schedule"
   ]
  },
  {
   "cell_type": "code",
   "execution_count": 54,
   "metadata": {},
   "outputs": [
    {
     "name": "stdout",
     "output_type": "stream",
     "text": [
      "<class 'pandas.core.frame.DataFrame'>\n",
      "RangeIndex: 63215 entries, 0 to 63214\n",
      "Data columns (total 16 columns):\n",
      " #   Column              Non-Null Count  Dtype  \n",
      "---  ------              --------------  -----  \n",
      " 0   Date                63215 non-null  object \n",
      " 1   Start time          63215 non-null  object \n",
      " 2   End time            63215 non-null  object \n",
      " 3   Description         63215 non-null  object \n",
      " 4   Staff               63215 non-null  object \n",
      " 5   Notes               0 non-null      float64\n",
      " 6   Client              0 non-null      float64\n",
      " 7   Client ID           63215 non-null  object \n",
      " 8   Scheduled Online    63215 non-null  object \n",
      " 9   Membership          37904 non-null  object \n",
      " 10  Staff Alert         0 non-null      float64\n",
      " 11  Yellow Alert        0 non-null      float64\n",
      " 12  Appointment Notes   0 non-null      float64\n",
      " 13  Unpaid Appointment  63215 non-null  object \n",
      " 14  First Visit         63215 non-null  object \n",
      " 15  Birthday            58132 non-null  object \n",
      "dtypes: float64(5), object(11)\n",
      "memory usage: 7.7+ MB\n"
     ]
    }
   ],
   "source": [
    "schedule.info()"
   ]
  },
  {
   "cell_type": "code",
   "execution_count": 57,
   "metadata": {},
   "outputs": [
    {
     "data": {
      "text/plain": [
       "(63215, 16)"
      ]
     },
     "execution_count": 57,
     "metadata": {},
     "output_type": "execute_result"
    }
   ],
   "source": [
    "schedule.shape"
   ]
  },
  {
   "cell_type": "code",
   "execution_count": 58,
   "metadata": {
    "colab": {
     "base_uri": "https://localhost:8080/"
    },
    "id": "bqF4HsQo3-Ac",
    "outputId": "c1b5d885-c4ff-45ca-f0e8-fa603f954154"
   },
   "outputs": [
    {
     "name": "stdout",
     "output_type": "stream",
     "text": [
      "<class 'pandas.core.frame.DataFrame'>\n",
      "RangeIndex: 63215 entries, 0 to 63214\n",
      "Data columns (total 11 columns):\n",
      " #   Column              Non-Null Count  Dtype \n",
      "---  ------              --------------  ----- \n",
      " 0   Date                63215 non-null  object\n",
      " 1   Start time          63215 non-null  object\n",
      " 2   End time            63215 non-null  object\n",
      " 3   Description         63215 non-null  object\n",
      " 4   Staff               63215 non-null  object\n",
      " 5   Client ID           63215 non-null  object\n",
      " 6   Scheduled Online    63215 non-null  object\n",
      " 7   Membership          37904 non-null  object\n",
      " 8   Unpaid Appointment  63215 non-null  object\n",
      " 9   First Visit         63215 non-null  object\n",
      " 10  Birthday            58132 non-null  object\n",
      "dtypes: object(11)\n",
      "memory usage: 5.3+ MB\n"
     ]
    }
   ],
   "source": [
    "schedule = schedule.drop(['Notes', 'Client', 'Staff Alert', 'Yellow Alert', 'Appointment Notes'], axis = 1)\n",
    "schedule.info()"
   ]
  },
  {
   "cell_type": "code",
   "execution_count": 59,
   "metadata": {
    "colab": {
     "base_uri": "https://localhost:8080/",
     "height": 424
    },
    "id": "XoqlV1hA4B9K",
    "outputId": "f1a2719f-6d91-4ee0-c257-7095490d9f1d"
   },
   "outputs": [],
   "source": [
    "# Regular expression pattern to extract dates\n",
    "pattern = r'from (\\d{1,2}/\\d{1,2}/\\d{4}) \\d{1,2}:\\d{2}:\\d{2} [AP]M to (\\d{1,2}/\\d{1,2}/\\d{4}) \\d{1,2}:\\d{2}:\\d{2} [AP]M'\n",
    "\n",
    "def extract_dates(membership):\n",
    "    if pd.isnull(membership) or not isinstance(membership, str):\n",
    "        return pd.NaT, pd.NaT  # Handle non-string or NaN values with pd.NaT\n",
    "    matches = re.search(pattern, membership)\n",
    "    if matches:\n",
    "        enter_date = pd.to_datetime(matches.group(1))\n",
    "        exit_date = pd.to_datetime(matches.group(2))\n",
    "        return enter_date, exit_date\n",
    "    else:\n",
    "        return pd.NaT, pd.NaT\n",
    "\n",
    "# Apply the function to extract dates\n",
    "schedule[['Enter Date', 'Exit Date']] = schedule['Membership'].apply(lambda x: extract_dates(x)).apply(pd.Series)"
   ]
  },
  {
   "cell_type": "code",
   "execution_count": 60,
   "metadata": {
    "colab": {
     "base_uri": "https://localhost:8080/",
     "height": 424
    },
    "id": "Z--j0LuBvmI8",
    "outputId": "02c359c8-da17-4231-9ada-e1ec5d5f91e2"
   },
   "outputs": [
    {
     "name": "stderr",
     "output_type": "stream",
     "text": [
      "/var/folders/dw/5lrf5nls49q7nfzf83vn454h0000gn/T/ipykernel_89113/3684159376.py:2: UserWarning: Could not infer format, so each element will be parsed individually, falling back to `dateutil`. To ensure parsing is consistent and as-expected, please specify a format.\n",
      "  schedule['Date'] = pd.to_datetime(schedule['Date'])\n"
     ]
    }
   ],
   "source": [
    "# Convert the 'Date' column to datetime if it's not already\n",
    "schedule['Date'] = pd.to_datetime(schedule['Date'])\n",
    "\n",
    "# Replace null values in 'Enter Date' with 'Date' where 'First Visit' is \"Yes\"\n",
    "schedule.loc[(schedule['First Visit'] == \"Yes\") & schedule['Enter Date'].isna(), 'Enter Date'] = schedule['Date']"
   ]
  },
  {
   "cell_type": "code",
   "execution_count": 61,
   "metadata": {
    "colab": {
     "base_uri": "https://localhost:8080/",
     "height": 424
    },
    "id": "VtkwmQRbx2Pe",
    "outputId": "3db93ee8-e551-4a4b-e276-c540b74bc506"
   },
   "outputs": [],
   "source": [
    "from datetime import datetime\n",
    "\n",
    "# Change the Birthday to datetime format\n",
    "schedule['Birthday'] = pd.to_datetime(schedule['Birthday'])\n",
    "\n",
    "current_year = datetime(2024, 1, 1)\n",
    "schedule['Age in 2024'] = schedule['Birthday'].apply(\n",
    "    lambda x: current_year.year - x.year - ((current_year.month, current_year.day) < (x.month, x.day))\n",
    "    )"
   ]
  },
  {
   "cell_type": "code",
   "execution_count": 62,
   "metadata": {
    "colab": {
     "base_uri": "https://localhost:8080/",
     "height": 424
    },
    "id": "al8Bvlxiyh1x",
    "outputId": "96816258-7114-43c6-d574-749c40c09d22"
   },
   "outputs": [],
   "source": [
    "def determine_membership(description):\n",
    "    if pd.isnull(description):\n",
    "        return pd.NA\n",
    "    elif \"Non-Member\" in description:\n",
    "        return \"Non-Member\"\n",
    "    elif \"Member\" in description:\n",
    "        return \"Member\"\n",
    "    else:\n",
    "        return pd.NA\n",
    "\n",
    "# Apply the function to the 'Description' column and store the result in 'Schedule_Membership'\n",
    "schedule['Membership'] = schedule['Description'].apply(determine_membership)"
   ]
  },
  {
   "cell_type": "code",
   "execution_count": 63,
   "metadata": {},
   "outputs": [
    {
     "data": {
      "text/plain": [
       "(63215, 14)"
      ]
     },
     "execution_count": 63,
     "metadata": {},
     "output_type": "execute_result"
    }
   ],
   "source": [
    "schedule.shape"
   ]
  },
  {
   "cell_type": "code",
   "execution_count": 64,
   "metadata": {},
   "outputs": [
    {
     "data": {
      "text/plain": [
       "Staff\n",
       "Whitney (E) 3.5 (2)    6431\n",
       "Luz 3                  5397\n",
       "Miguel  4 (2)          4707\n",
       "Mireya (E) 3.5         4601\n",
       "Theresa 3              3308\n",
       "                       ... \n",
       "Marianne                 40\n",
       "Angie                    30\n",
       "Ramirez                  21\n",
       "Louisa                    6\n",
       "Iryna                     4\n",
       "Name: count, Length: 67, dtype: int64"
      ]
     },
     "execution_count": 64,
     "metadata": {},
     "output_type": "execute_result"
    }
   ],
   "source": [
    "schedule['Staff'].value_counts()"
   ]
  },
  {
   "cell_type": "code",
   "execution_count": 65,
   "metadata": {},
   "outputs": [],
   "source": [
    "schedule['Staff'] = schedule['Staff'].str.replace(r\"[\\(\\)\\d]+\", \"\", regex=True).str.strip()"
   ]
  },
  {
   "cell_type": "code",
   "execution_count": 66,
   "metadata": {},
   "outputs": [
    {
     "data": {
      "text/plain": [
       "<bound method Series.unique of 0              John\n",
       "1              John\n",
       "2           C Lucas\n",
       "3              John\n",
       "4           C Lucas\n",
       "            ...    \n",
       "63210         Lesly\n",
       "63211    Mireya E .\n",
       "63212    Mireya E .\n",
       "63213         Sarah\n",
       "63214          Ruby\n",
       "Name: Staff, Length: 63215, dtype: object>"
      ]
     },
     "execution_count": 66,
     "metadata": {},
     "output_type": "execute_result"
    }
   ],
   "source": [
    "schedule['Staff'].unique"
   ]
  },
  {
   "cell_type": "code",
   "execution_count": 67,
   "metadata": {},
   "outputs": [
    {
     "data": {
      "text/plain": [
       "(63215, 14)"
      ]
     },
     "execution_count": 67,
     "metadata": {},
     "output_type": "execute_result"
    }
   ],
   "source": [
    "schedule.shape"
   ]
  },
  {
   "cell_type": "markdown",
   "metadata": {},
   "source": [
    "#### Add Summarized Features"
   ]
  },
  {
   "cell_type": "code",
   "execution_count": 68,
   "metadata": {},
   "outputs": [],
   "source": [
    "# Calculate schedule frequency for each client\n",
    "schedule['Schedule_Frequency'] = schedule.groupby('Client ID')['Date'].transform('count')\n",
    "\n",
    "# Calculate the favorite therapist for each client\n",
    "schedule['Favorite_Therapist'] = schedule.groupby('Client ID')['Staff'].transform(lambda x: x.mode()[0] if not x.mode().empty else None)\n",
    "\n",
    "# Calculate the first and last schedule date for each client\n",
    "schedule['First_Schedule_Date'] = schedule.groupby('Client ID')['Date'].transform('min')\n",
    "schedule['Last_Schedule_Date'] = schedule.groupby('Client ID')['Date'].transform('max')"
   ]
  },
  {
   "cell_type": "code",
   "execution_count": 69,
   "metadata": {},
   "outputs": [],
   "source": [
    "# Replace periods and blank spaces in the 'Favorite_Therapist' column\n",
    "schedule['Favorite_Therapist'] = schedule['Favorite_Therapist'].str.replace('.', '', regex=False)\n",
    "schedule['Favorite_Therapist'] = schedule['Favorite_Therapist'].str.replace(' ', '', regex=False)"
   ]
  },
  {
   "cell_type": "code",
   "execution_count": 70,
   "metadata": {},
   "outputs": [
    {
     "data": {
      "text/plain": [
       "(63215, 18)"
      ]
     },
     "execution_count": 70,
     "metadata": {},
     "output_type": "execute_result"
    }
   ],
   "source": [
    "schedule.shape"
   ]
  },
  {
   "cell_type": "markdown",
   "metadata": {},
   "source": [
    "### Group by"
   ]
  },
  {
   "cell_type": "code",
   "execution_count": 71,
   "metadata": {},
   "outputs": [],
   "source": [
    "grouped_schedule = schedule.groupby('Client ID').agg({\n",
    "    'Enter Date': 'min',\n",
    "    'Exit Date': 'max', \n",
    "    'Age in 2024': 'max',\n",
    "    'Schedule_Frequency': 'max',\n",
    "    'Favorite_Therapist': 'max',\n",
    "    'First_Schedule_Date': 'max', \n",
    "    'Last_Schedule_Date': 'max'\n",
    "}).reset_index()"
   ]
  },
  {
   "cell_type": "code",
   "execution_count": 72,
   "metadata": {},
   "outputs": [
    {
     "data": {
      "text/plain": [
       "(9581, 8)"
      ]
     },
     "execution_count": 72,
     "metadata": {},
     "output_type": "execute_result"
    }
   ],
   "source": [
    "grouped_schedule.shape"
   ]
  },
  {
   "cell_type": "code",
   "execution_count": 73,
   "metadata": {},
   "outputs": [
    {
     "name": "stdout",
     "output_type": "stream",
     "text": [
      "<class 'pandas.core.frame.DataFrame'>\n",
      "RangeIndex: 9581 entries, 0 to 9580\n",
      "Data columns (total 8 columns):\n",
      " #   Column               Non-Null Count  Dtype         \n",
      "---  ------               --------------  -----         \n",
      " 0   Client ID            9581 non-null   object        \n",
      " 1   Enter Date           8826 non-null   datetime64[ns]\n",
      " 2   Exit Date            2083 non-null   datetime64[ns]\n",
      " 3   Age in 2024          8307 non-null   float64       \n",
      " 4   Schedule_Frequency   9581 non-null   int64         \n",
      " 5   Favorite_Therapist   9581 non-null   object        \n",
      " 6   First_Schedule_Date  9581 non-null   datetime64[ns]\n",
      " 7   Last_Schedule_Date   9581 non-null   datetime64[ns]\n",
      "dtypes: datetime64[ns](4), float64(1), int64(1), object(2)\n",
      "memory usage: 598.9+ KB\n"
     ]
    }
   ],
   "source": [
    "grouped_schedule.info()"
   ]
  },
  {
   "cell_type": "code",
   "execution_count": 74,
   "metadata": {},
   "outputs": [
    {
     "data": {
      "text/html": [
       "<div>\n",
       "<style scoped>\n",
       "    .dataframe tbody tr th:only-of-type {\n",
       "        vertical-align: middle;\n",
       "    }\n",
       "\n",
       "    .dataframe tbody tr th {\n",
       "        vertical-align: top;\n",
       "    }\n",
       "\n",
       "    .dataframe thead th {\n",
       "        text-align: right;\n",
       "    }\n",
       "</style>\n",
       "<table border=\"1\" class=\"dataframe\">\n",
       "  <thead>\n",
       "    <tr style=\"text-align: right;\">\n",
       "      <th></th>\n",
       "      <th>Enter Date</th>\n",
       "      <th>Exit Date</th>\n",
       "      <th>Age in 2024</th>\n",
       "      <th>Schedule_Frequency</th>\n",
       "      <th>First_Schedule_Date</th>\n",
       "      <th>Last_Schedule_Date</th>\n",
       "    </tr>\n",
       "  </thead>\n",
       "  <tbody>\n",
       "    <tr>\n",
       "      <th>count</th>\n",
       "      <td>8826</td>\n",
       "      <td>2083</td>\n",
       "      <td>8307.000000</td>\n",
       "      <td>9581.000000</td>\n",
       "      <td>9581</td>\n",
       "      <td>9581</td>\n",
       "    </tr>\n",
       "    <tr>\n",
       "      <th>mean</th>\n",
       "      <td>2020-09-18 13:16:31.162474752</td>\n",
       "      <td>2099-07-11 02:12:02.419587072</td>\n",
       "      <td>44.334296</td>\n",
       "      <td>6.597954</td>\n",
       "      <td>2020-06-07 08:40:10.771318272</td>\n",
       "      <td>2021-04-10 15:46:43.423442176</td>\n",
       "    </tr>\n",
       "    <tr>\n",
       "      <th>min</th>\n",
       "      <td>2000-01-12 00:00:00</td>\n",
       "      <td>2023-10-11 00:00:00</td>\n",
       "      <td>-26.000000</td>\n",
       "      <td>1.000000</td>\n",
       "      <td>2017-01-02 00:00:00</td>\n",
       "      <td>2017-01-02 00:00:00</td>\n",
       "    </tr>\n",
       "    <tr>\n",
       "      <th>25%</th>\n",
       "      <td>2018-09-27 00:00:00</td>\n",
       "      <td>2103-01-16 00:00:00</td>\n",
       "      <td>33.000000</td>\n",
       "      <td>1.000000</td>\n",
       "      <td>2018-05-13 00:00:00</td>\n",
       "      <td>2019-02-27 00:00:00</td>\n",
       "    </tr>\n",
       "    <tr>\n",
       "      <th>50%</th>\n",
       "      <td>2021-04-13 00:00:00</td>\n",
       "      <td>2105-06-09 00:00:00</td>\n",
       "      <td>42.000000</td>\n",
       "      <td>1.000000</td>\n",
       "      <td>2020-06-26 00:00:00</td>\n",
       "      <td>2021-12-01 00:00:00</td>\n",
       "    </tr>\n",
       "    <tr>\n",
       "      <th>75%</th>\n",
       "      <td>2022-08-30 00:00:00</td>\n",
       "      <td>2106-07-01 00:00:00</td>\n",
       "      <td>56.000000</td>\n",
       "      <td>5.000000</td>\n",
       "      <td>2022-06-21 00:00:00</td>\n",
       "      <td>2023-05-20 00:00:00</td>\n",
       "    </tr>\n",
       "    <tr>\n",
       "      <th>max</th>\n",
       "      <td>2024-01-01 00:00:00</td>\n",
       "      <td>2107-04-14 00:00:00</td>\n",
       "      <td>141.000000</td>\n",
       "      <td>397.000000</td>\n",
       "      <td>2023-12-31 00:00:00</td>\n",
       "      <td>2023-12-31 00:00:00</td>\n",
       "    </tr>\n",
       "    <tr>\n",
       "      <th>std</th>\n",
       "      <td>NaN</td>\n",
       "      <td>NaN</td>\n",
       "      <td>15.500358</td>\n",
       "      <td>15.611954</td>\n",
       "      <td>NaN</td>\n",
       "      <td>NaN</td>\n",
       "    </tr>\n",
       "  </tbody>\n",
       "</table>\n",
       "</div>"
      ],
      "text/plain": [
       "                          Enter Date                      Exit Date  \\\n",
       "count                           8826                           2083   \n",
       "mean   2020-09-18 13:16:31.162474752  2099-07-11 02:12:02.419587072   \n",
       "min              2000-01-12 00:00:00            2023-10-11 00:00:00   \n",
       "25%              2018-09-27 00:00:00            2103-01-16 00:00:00   \n",
       "50%              2021-04-13 00:00:00            2105-06-09 00:00:00   \n",
       "75%              2022-08-30 00:00:00            2106-07-01 00:00:00   \n",
       "max              2024-01-01 00:00:00            2107-04-14 00:00:00   \n",
       "std                              NaN                            NaN   \n",
       "\n",
       "       Age in 2024  Schedule_Frequency            First_Schedule_Date  \\\n",
       "count  8307.000000         9581.000000                           9581   \n",
       "mean     44.334296            6.597954  2020-06-07 08:40:10.771318272   \n",
       "min     -26.000000            1.000000            2017-01-02 00:00:00   \n",
       "25%      33.000000            1.000000            2018-05-13 00:00:00   \n",
       "50%      42.000000            1.000000            2020-06-26 00:00:00   \n",
       "75%      56.000000            5.000000            2022-06-21 00:00:00   \n",
       "max     141.000000          397.000000            2023-12-31 00:00:00   \n",
       "std      15.500358           15.611954                            NaN   \n",
       "\n",
       "                  Last_Schedule_Date  \n",
       "count                           9581  \n",
       "mean   2021-04-10 15:46:43.423442176  \n",
       "min              2017-01-02 00:00:00  \n",
       "25%              2019-02-27 00:00:00  \n",
       "50%              2021-12-01 00:00:00  \n",
       "75%              2023-05-20 00:00:00  \n",
       "max              2023-12-31 00:00:00  \n",
       "std                              NaN  "
      ]
     },
     "execution_count": 74,
     "metadata": {},
     "output_type": "execute_result"
    }
   ],
   "source": [
    "grouped_schedule.describe()"
   ]
  },
  {
   "cell_type": "markdown",
   "metadata": {
    "id": "vzdI8GI_2ToA"
   },
   "source": [
    "## metrics"
   ]
  },
  {
   "cell_type": "code",
   "execution_count": 75,
   "metadata": {},
   "outputs": [
    {
     "data": {
      "text/plain": [
       "(54, 7)"
      ]
     },
     "execution_count": 75,
     "metadata": {},
     "output_type": "execute_result"
    }
   ],
   "source": [
    "metrics.shape"
   ]
  },
  {
   "cell_type": "code",
   "execution_count": 77,
   "metadata": {},
   "outputs": [
    {
     "name": "stdout",
     "output_type": "stream",
     "text": [
      "<class 'pandas.core.frame.DataFrame'>\n",
      "RangeIndex: 54 entries, 0 to 53\n",
      "Data columns (total 7 columns):\n",
      " #   Column                     Non-Null Count  Dtype  \n",
      "---  ------                     --------------  -----  \n",
      " 0   Therapist                  54 non-null     object \n",
      " 1   Total Client Services      54 non-null     int64  \n",
      " 2   Number  Hours  Booked      54 non-null     float64\n",
      " 3   Therapist Available Hours  54 non-null     float64\n",
      " 4   Therapist Utilization      54 non-null     float64\n",
      " 5   Upgrades                   54 non-null     int64  \n",
      " 6   Upgrade %                  53 non-null     float64\n",
      "dtypes: float64(4), int64(2), object(1)\n",
      "memory usage: 3.1+ KB\n"
     ]
    }
   ],
   "source": [
    "metrics.info()"
   ]
  },
  {
   "cell_type": "markdown",
   "metadata": {
    "id": "9-eGFQ2E2ahN"
   },
   "source": [
    "## turnover"
   ]
  },
  {
   "cell_type": "code",
   "execution_count": 76,
   "metadata": {},
   "outputs": [
    {
     "data": {
      "text/plain": [
       "(55, 62)"
      ]
     },
     "execution_count": 76,
     "metadata": {},
     "output_type": "execute_result"
    }
   ],
   "source": [
    "turnover.shape"
   ]
  },
  {
   "cell_type": "code",
   "execution_count": 78,
   "metadata": {},
   "outputs": [
    {
     "name": "stdout",
     "output_type": "stream",
     "text": [
      "<class 'pandas.core.frame.DataFrame'>\n",
      "RangeIndex: 55 entries, 0 to 54\n",
      "Data columns (total 62 columns):\n",
      " #   Column       Non-Null Count  Dtype \n",
      "---  ------       --------------  ----- \n",
      " 0   Therapist    54 non-null     object\n",
      " 1   Jan 19       12 non-null     object\n",
      " 2   Feb 19       12 non-null     object\n",
      " 3   Mar 19       10 non-null     object\n",
      " 4   Apr 19       12 non-null     object\n",
      " 5   May 19       11 non-null     object\n",
      " 6   Jun 19       12 non-null     object\n",
      " 7   Jul 19       12 non-null     object\n",
      " 8   Aug 19       13 non-null     object\n",
      " 9   Sep 19       13 non-null     object\n",
      " 10  Oct 19       13 non-null     object\n",
      " 11  Nov 19       15 non-null     object\n",
      " 12  Dec 19       14 non-null     object\n",
      " 13  Jan 20       13 non-null     object\n",
      " 14  Feb 20       12 non-null     object\n",
      " 15  Mar 20       12 non-null     object\n",
      " 16  Apr 20       1 non-null      object\n",
      " 17  May 20       1 non-null      object\n",
      " 18  Jun 20       10 non-null     object\n",
      " 19  Jul 20       9 non-null      object\n",
      " 20  Aug 20       7 non-null      object\n",
      " 21  Sep 20       9 non-null      object\n",
      " 22  Oct 20       11 non-null     object\n",
      " 23  Nov 20       11 non-null     object\n",
      " 24  Dec 20       11 non-null     object\n",
      " 25  Jan 21       9 non-null      object\n",
      " 26  Feb 21       12 non-null     object\n",
      " 27  Mar 21       13 non-null     object\n",
      " 28  Apr 21       15 non-null     object\n",
      " 29  May 21       15 non-null     object\n",
      " 30  Jun 21       16 non-null     object\n",
      " 31  Jul 21       15 non-null     object\n",
      " 32  Aug 21       15 non-null     object\n",
      " 33  Sep 21       15 non-null     object\n",
      " 34  Oct 21       15 non-null     object\n",
      " 35  Nov 21       17 non-null     object\n",
      " 36  Dec 21       16 non-null     object\n",
      " 37  Jan 22       15 non-null     object\n",
      " 38  Feb 22       17 non-null     object\n",
      " 39  Mar 22       17 non-null     object\n",
      " 40  Apr 22       18 non-null     object\n",
      " 41  May 22       18 non-null     object\n",
      " 42  Jun 22       21 non-null     object\n",
      " 43  Jul 22       20 non-null     object\n",
      " 44  Aug 22       19 non-null     object\n",
      " 45  Sep 22       20 non-null     object\n",
      " 46  Oct 22       20 non-null     object\n",
      " 47  Nov 22       19 non-null     object\n",
      " 48  Dec 22       19 non-null     object\n",
      " 49  Jan 23       18 non-null     object\n",
      " 50  Feb 23       20 non-null     object\n",
      " 51  Mar 23       22 non-null     object\n",
      " 52  Apr 23       23 non-null     object\n",
      " 53  May 23       21 non-null     object\n",
      " 54  Jun 23       22 non-null     object\n",
      " 55  Jul 23       23 non-null     object\n",
      " 56  Aug 23       22 non-null     object\n",
      " 57  Sep 23       22 non-null     object\n",
      " 58  Oct 23       22 non-null     object\n",
      " 59  Nov 23       21 non-null     object\n",
      " 60  Dec 23       20 non-null     object\n",
      " 61  Unnamed: 61  1 non-null      object\n",
      "dtypes: object(62)\n",
      "memory usage: 26.8+ KB\n"
     ]
    }
   ],
   "source": [
    "turnover.info()"
   ]
  },
  {
   "cell_type": "markdown",
   "metadata": {
    "id": "R-sRwqPN3GC3"
   },
   "source": [
    "## Merge datasets"
   ]
  },
  {
   "cell_type": "code",
   "execution_count": 79,
   "metadata": {
    "id": "v1R8C3ZD2iS9"
   },
   "outputs": [],
   "source": [
    "grouped_sales_columns = {col: f'sales_{col}' for col in grouped_sales.columns}\n",
    "grouped_deposits_columns = {col: f'deposits_{col}' for col in grouped_deposits.columns}\n",
    "grouped_schedule_columns = {col: f'schedule_{col}' for col in grouped_schedule.columns}\n",
    "\n",
    "grouped_sales.rename(columns=grouped_sales_columns, inplace=True)\n",
    "grouped_deposits.rename(columns=grouped_deposits_columns, inplace=True)\n",
    "grouped_schedule.rename(columns=grouped_schedule_columns, inplace=True)"
   ]
  },
  {
   "cell_type": "code",
   "execution_count": 80,
   "metadata": {},
   "outputs": [
    {
     "data": {
      "text/plain": [
       "Index(['sales_Client ID', 'sales_First_Sale_Date', 'sales_Last_Sale_Date',\n",
       "       'sales_Sale_Frequency', 'sales_Last_Sale_Membership',\n",
       "       'sales_Preferred_Service_Time', 'sales_Favorite_Item',\n",
       "       'sales_Ever_Purchased_Addons', 'sales_Ever_Purchased_Chair_Session',\n",
       "       'sales_Ever_Purchased_Manager_Owner_Session', 'sales_Ever_Late_Cancel',\n",
       "       'sales_Non_Member_Purchase_Rate', 'sales_First_Member_Purchase_Date'],\n",
       "      dtype='object')"
      ]
     },
     "execution_count": 80,
     "metadata": {},
     "output_type": "execute_result"
    }
   ],
   "source": [
    "grouped_sales.columns"
   ]
  },
  {
   "cell_type": "code",
   "execution_count": 81,
   "metadata": {},
   "outputs": [],
   "source": [
    "# Perform the outer joins and groupbys\n",
    "merged_df = grouped_sales.merge(members, how='left', left_on='sales_Client ID', right_on='BarcodeID')"
   ]
  },
  {
   "cell_type": "code",
   "execution_count": 82,
   "metadata": {},
   "outputs": [],
   "source": [
    "merged_df = merged_df.merge(grouped_deposits, how='left', left_on='sales_Client ID', right_on='deposits_Client ID')"
   ]
  },
  {
   "cell_type": "code",
   "execution_count": 83,
   "metadata": {},
   "outputs": [],
   "source": [
    "merged_df = merged_df.merge(grouped_schedule, how='left', left_on='sales_Client ID', right_on='schedule_Client ID')"
   ]
  },
  {
   "cell_type": "code",
   "execution_count": 84,
   "metadata": {},
   "outputs": [
    {
     "data": {
      "text/plain": [
       "(6908, 35)"
      ]
     },
     "execution_count": 84,
     "metadata": {},
     "output_type": "execute_result"
    }
   ],
   "source": [
    "merged_df.shape"
   ]
  },
  {
   "cell_type": "markdown",
   "metadata": {},
   "source": [
    "## Remove duplicate columns and rename"
   ]
  },
  {
   "cell_type": "code",
   "execution_count": 85,
   "metadata": {},
   "outputs": [
    {
     "data": {
      "text/plain": [
       "Index(['sales_Client ID', 'sales_First_Sale_Date', 'sales_Last_Sale_Date',\n",
       "       'sales_Sale_Frequency', 'sales_Last_Sale_Membership',\n",
       "       'sales_Preferred_Service_Time', 'sales_Favorite_Item',\n",
       "       'sales_Ever_Purchased_Addons', 'sales_Ever_Purchased_Chair_Session',\n",
       "       'sales_Ever_Purchased_Manager_Owner_Session', 'sales_Ever_Late_Cancel',\n",
       "       'sales_Non_Member_Purchase_Rate', 'sales_First_Member_Purchase_Date',\n",
       "       'BarcodeID', 'Status', 'Membership Tier', 'Joined On', 'Location',\n",
       "       'Next AutoPay Date', 'Next AutoPay Amount', 'Is New Member?',\n",
       "       'Membership Autopay', 'deposits_Client ID',\n",
       "       'deposits_First_Deposit_Date', 'deposits_Last_Deposit_Date',\n",
       "       'deposits_Deposit_Frequency', 'deposits_Last_Deposit_Membership',\n",
       "       'schedule_Client ID', 'schedule_Enter Date', 'schedule_Exit Date',\n",
       "       'schedule_Age in 2024', 'schedule_Schedule_Frequency',\n",
       "       'schedule_Favorite_Therapist', 'schedule_First_Schedule_Date',\n",
       "       'schedule_Last_Schedule_Date'],\n",
       "      dtype='object')"
      ]
     },
     "execution_count": 85,
     "metadata": {},
     "output_type": "execute_result"
    }
   ],
   "source": [
    "merged_df.columns"
   ]
  },
  {
   "cell_type": "code",
   "execution_count": 86,
   "metadata": {},
   "outputs": [
    {
     "data": {
      "text/plain": [
       "Index(['sales_Client ID', 'sales_First_Sale_Date', 'sales_Last_Sale_Date',\n",
       "       'sales_Sale_Frequency', 'sales_Last_Sale_Membership',\n",
       "       'sales_Preferred_Service_Time', 'sales_Favorite_Item',\n",
       "       'sales_Ever_Purchased_Addons', 'sales_Ever_Purchased_Chair_Session',\n",
       "       'sales_Ever_Purchased_Manager_Owner_Session', 'sales_Ever_Late_Cancel',\n",
       "       'sales_Non_Member_Purchase_Rate', 'sales_First_Member_Purchase_Date',\n",
       "       'Status', 'Membership Tier', 'Joined On', 'Location',\n",
       "       'Next AutoPay Date', 'Next AutoPay Amount', 'Is New Member?',\n",
       "       'Membership Autopay', 'deposits_First_Deposit_Date',\n",
       "       'deposits_Last_Deposit_Date', 'deposits_Deposit_Frequency',\n",
       "       'deposits_Last_Deposit_Membership', 'schedule_Enter Date',\n",
       "       'schedule_Exit Date', 'schedule_Age in 2024',\n",
       "       'schedule_Schedule_Frequency', 'schedule_Favorite_Therapist',\n",
       "       'schedule_First_Schedule_Date', 'schedule_Last_Schedule_Date'],\n",
       "      dtype='object')"
      ]
     },
     "execution_count": 86,
     "metadata": {},
     "output_type": "execute_result"
    }
   ],
   "source": [
    "merged_df = merged_df.drop(['BarcodeID', 'deposits_Client ID', 'schedule_Client ID'], axis = 1)\n",
    "merged_df.columns"
   ]
  },
  {
   "cell_type": "code",
   "execution_count": 87,
   "metadata": {},
   "outputs": [],
   "source": [
    "merged_df = merged_df.rename(columns={   \n",
    "    'sales_Client ID': 'Client_ID',\n",
    "    'Status': 'Member_Status',\n",
    "    'Membership Tier': 'Member_Tier',\n",
    "    'Joined On': 'Member_Joined_On',\n",
    "    'Next AutoPay Date': 'Member_Next_Autopay_Date',\n",
    "    'Next AutoPay Amount': 'Member_Next_Autopay_Amount',\n",
    "    'Is New Member?': 'Member_Is_New_Member',\n",
    "    'sales_First_Sale_Date': 'First_Sale_Date',\n",
    "    'sales_Last_Sale_Date': 'Last_Sale_Date',\n",
    "    'sales_Sale_Frequency': 'Sale_Frequency',\n",
    "    'sales_Last_Sale_Membership': 'Last_Sale_Membership',\n",
    "    'sales_Preferred_Service_Time': 'Preferred_Service_Time',\n",
    "    'sales_Favorite_Item': 'Favorite_Sales_Item',\n",
    "    'sales_Ever_Purchased_Addons': 'Ever_Purchased_Addons',\n",
    "    'sales_Ever_Purchased_Chair_Session': 'Ever_Purchased_Chair_Session',\n",
    "    'sales_Ever_Purchased_Manager_Owner_Session': 'Ever_Purchased_Manager_Owner_Session',\n",
    "    'sales_Ever_Late_Cancel': 'Ever_Late_Cancel',\n",
    "    'sales_Non_Member_Purchase_Rate': 'Non_Member_Purchase_Rate',\n",
    "    'sales_First_Member_Purchase_Date': 'First_Member_Purchase_Date',\n",
    "    'deposits_First_Deposit_Date': 'First_Deposit_Date',\n",
    "    'deposits_Last_Deposit_Date': 'Last_Deposit_Date',\n",
    "    'deposits_Deposit_Frequency': 'Deposit_Frequency',\n",
    "    'deposits_Last_Deposit_Membership': 'Last_Deposit_Membership',\n",
    "    'schedule_Enter Date': 'Schedule_Member_Enter_Date',\n",
    "    'schedule_Exit Date': 'Schedule_Member_Exit_Date',\n",
    "    'schedule_Age in 2024': 'Member_Age',\n",
    "    'schedule_Schedule_Frequency': 'Schedule_Frequency',\n",
    "    'schedule_Favorite_Therapist': 'Favorite_Therapist',\n",
    "    'schedule_First_Schedule_Date': 'First_Schedule_Date',\n",
    "    'schedule_Last_Schedule_Date': 'Last_Schedule_Date'\n",
    "    })"
   ]
  },
  {
   "cell_type": "code",
   "execution_count": 88,
   "metadata": {},
   "outputs": [
    {
     "data": {
      "text/plain": [
       "(6908, 32)"
      ]
     },
     "execution_count": 88,
     "metadata": {},
     "output_type": "execute_result"
    }
   ],
   "source": [
    "merged_df.shape"
   ]
  },
  {
   "cell_type": "code",
   "execution_count": 89,
   "metadata": {},
   "outputs": [
    {
     "name": "stdout",
     "output_type": "stream",
     "text": [
      "<class 'pandas.core.frame.DataFrame'>\n",
      "RangeIndex: 6908 entries, 0 to 6907\n",
      "Data columns (total 32 columns):\n",
      " #   Column                                Non-Null Count  Dtype         \n",
      "---  ------                                --------------  -----         \n",
      " 0   Client_ID                             6908 non-null   object        \n",
      " 1   First_Sale_Date                       6908 non-null   datetime64[ns]\n",
      " 2   Last_Sale_Date                        6908 non-null   datetime64[ns]\n",
      " 3   Sale_Frequency                        6908 non-null   int64         \n",
      " 4   Last_Sale_Membership                  6908 non-null   object        \n",
      " 5   Preferred_Service_Time                6844 non-null   float64       \n",
      " 6   Favorite_Sales_Item                   6908 non-null   object        \n",
      " 7   Ever_Purchased_Addons                 6908 non-null   int64         \n",
      " 8   Ever_Purchased_Chair_Session          6908 non-null   int64         \n",
      " 9   Ever_Purchased_Manager_Owner_Session  6908 non-null   int64         \n",
      " 10  Ever_Late_Cancel                      6908 non-null   int64         \n",
      " 11  Non_Member_Purchase_Rate              6908 non-null   float64       \n",
      " 12  First_Member_Purchase_Date            2660 non-null   datetime64[ns]\n",
      " 13  Member_Status                         1724 non-null   object        \n",
      " 14  Member_Tier                           1724 non-null   object        \n",
      " 15  Member_Joined_On                      1724 non-null   object        \n",
      " 16  Location                              1724 non-null   object        \n",
      " 17  Member_Next_Autopay_Date              874 non-null    object        \n",
      " 18  Member_Next_Autopay_Amount            1724 non-null   float64       \n",
      " 19  Member_Is_New_Member                  1724 non-null   object        \n",
      " 20  Membership Autopay                    1724 non-null   object        \n",
      " 21  First_Deposit_Date                    1325 non-null   datetime64[ns]\n",
      " 22  Last_Deposit_Date                     1325 non-null   datetime64[ns]\n",
      " 23  Deposit_Frequency                     1325 non-null   float64       \n",
      " 24  Last_Deposit_Membership               1325 non-null   object        \n",
      " 25  Schedule_Member_Enter_Date            6190 non-null   datetime64[ns]\n",
      " 26  Schedule_Member_Exit_Date             1515 non-null   datetime64[ns]\n",
      " 27  Member_Age                            6013 non-null   float64       \n",
      " 28  Schedule_Frequency                    6773 non-null   float64       \n",
      " 29  Favorite_Therapist                    6773 non-null   object        \n",
      " 30  First_Schedule_Date                   6773 non-null   datetime64[ns]\n",
      " 31  Last_Schedule_Date                    6773 non-null   datetime64[ns]\n",
      "dtypes: datetime64[ns](9), float64(6), int64(5), object(12)\n",
      "memory usage: 1.7+ MB\n"
     ]
    }
   ],
   "source": [
    "merged_df.info()"
   ]
  },
  {
   "cell_type": "markdown",
   "metadata": {},
   "source": [
    "## Cleaning Merged Dataset"
   ]
  },
  {
   "cell_type": "code",
   "execution_count": 90,
   "metadata": {},
   "outputs": [],
   "source": [
    "# Replace \"Wellness Program Member {M}\" with \"Member\" in the Member_Tier column\n",
    "merged_df['Member_Tier'] = merged_df['Member_Tier'].replace('Wellness Program Member {M}', 'Member')"
   ]
  },
  {
   "cell_type": "code",
   "execution_count": 91,
   "metadata": {},
   "outputs": [
    {
     "data": {
      "text/plain": [
       "Index(['Client_ID', 'First_Sale_Date', 'Last_Sale_Date', 'Sale_Frequency',\n",
       "       'Last_Sale_Membership', 'Preferred_Service_Time', 'Favorite_Sales_Item',\n",
       "       'Ever_Purchased_Addons', 'Ever_Purchased_Chair_Session',\n",
       "       'Ever_Purchased_Manager_Owner_Session', 'Ever_Late_Cancel',\n",
       "       'Non_Member_Purchase_Rate', 'First_Member_Purchase_Date',\n",
       "       'Member_Status', 'Member_Tier', 'Member_Joined_On', 'Location',\n",
       "       'Member_Next_Autopay_Date', 'Member_Next_Autopay_Amount',\n",
       "       'Member_Is_New_Member', 'Membership Autopay', 'First_Deposit_Date',\n",
       "       'Last_Deposit_Date', 'Deposit_Frequency', 'Last_Deposit_Membership',\n",
       "       'Schedule_Member_Enter_Date', 'Schedule_Member_Exit_Date', 'Member_Age',\n",
       "       'Schedule_Frequency', 'Favorite_Therapist', 'First_Schedule_Date',\n",
       "       'Last_Schedule_Date'],\n",
       "      dtype='object')"
      ]
     },
     "execution_count": 91,
     "metadata": {},
     "output_type": "execute_result"
    }
   ],
   "source": [
    "merged_df.columns"
   ]
  },
  {
   "cell_type": "code",
   "execution_count": 92,
   "metadata": {},
   "outputs": [
    {
     "data": {
      "text/plain": [
       "(6908, 32)"
      ]
     },
     "execution_count": 92,
     "metadata": {},
     "output_type": "execute_result"
    }
   ],
   "source": [
    "merged_df.shape"
   ]
  },
  {
   "cell_type": "code",
   "execution_count": 93,
   "metadata": {},
   "outputs": [],
   "source": [
    "# Update Member_Tier to \"Member\" where it's blank and Non_Member_Purchase_Rate < 1\n",
    "merged_df.loc[merged_df['Member_Tier'].isna() & (merged_df['Non_Member_Purchase_Rate'] < 1), 'Member_Tier'] = \"Member\""
   ]
  },
  {
   "cell_type": "code",
   "execution_count": 94,
   "metadata": {},
   "outputs": [
    {
     "data": {
      "text/plain": [
       "Index(['Client_ID', 'First_Sale_Date', 'Last_Sale_Date', 'Sale_Frequency',\n",
       "       'Last_Sale_Membership', 'Preferred_Service_Time', 'Favorite_Sales_Item',\n",
       "       'Ever_Purchased_Addons', 'Ever_Purchased_Chair_Session',\n",
       "       'Ever_Purchased_Manager_Owner_Session', 'Ever_Late_Cancel',\n",
       "       'Non_Member_Purchase_Rate', 'First_Member_Purchase_Date',\n",
       "       'Member_Status', 'Member_Tier', 'Member_Joined_On', 'Location',\n",
       "       'Member_Next_Autopay_Date', 'Member_Next_Autopay_Amount',\n",
       "       'Member_Is_New_Member', 'Membership Autopay', 'First_Deposit_Date',\n",
       "       'Last_Deposit_Date', 'Deposit_Frequency', 'Last_Deposit_Membership',\n",
       "       'Schedule_Member_Enter_Date', 'Schedule_Member_Exit_Date', 'Member_Age',\n",
       "       'Schedule_Frequency', 'Favorite_Therapist', 'First_Schedule_Date',\n",
       "       'Last_Schedule_Date'],\n",
       "      dtype='object')"
      ]
     },
     "execution_count": 94,
     "metadata": {},
     "output_type": "execute_result"
    }
   ],
   "source": [
    "merged_df.columns"
   ]
  },
  {
   "cell_type": "code",
   "execution_count": 95,
   "metadata": {},
   "outputs": [
    {
     "data": {
      "text/plain": [
       "(6908, 32)"
      ]
     },
     "execution_count": 95,
     "metadata": {},
     "output_type": "execute_result"
    }
   ],
   "source": [
    "merged_df.shape"
   ]
  },
  {
   "cell_type": "code",
   "execution_count": 97,
   "metadata": {},
   "outputs": [],
   "source": [
    "merged_df.loc[(merged_df['Last_Sale_Date'].dt.month == 12) & (merged_df['Last_Sale_Date'].dt.year == 2023) & (merged_df['Last_Sale_Membership'] == \"Member\"), 'Member_Status'] = \"Active\""
   ]
  },
  {
   "cell_type": "code",
   "execution_count": 98,
   "metadata": {},
   "outputs": [
    {
     "data": {
      "text/plain": [
       "Index(['Client_ID', 'First_Sale_Date', 'Last_Sale_Date', 'Sale_Frequency',\n",
       "       'Last_Sale_Membership', 'Preferred_Service_Time', 'Favorite_Sales_Item',\n",
       "       'Ever_Purchased_Addons', 'Ever_Purchased_Chair_Session',\n",
       "       'Ever_Purchased_Manager_Owner_Session', 'Ever_Late_Cancel',\n",
       "       'Non_Member_Purchase_Rate', 'First_Member_Purchase_Date',\n",
       "       'Member_Status', 'Member_Tier', 'Member_Joined_On', 'Location',\n",
       "       'Member_Next_Autopay_Date', 'Member_Next_Autopay_Amount',\n",
       "       'Member_Is_New_Member', 'Membership Autopay', 'First_Deposit_Date',\n",
       "       'Last_Deposit_Date', 'Deposit_Frequency', 'Last_Deposit_Membership',\n",
       "       'Schedule_Member_Enter_Date', 'Schedule_Member_Exit_Date', 'Member_Age',\n",
       "       'Schedule_Frequency', 'Favorite_Therapist', 'First_Schedule_Date',\n",
       "       'Last_Schedule_Date'],\n",
       "      dtype='object')"
      ]
     },
     "execution_count": 98,
     "metadata": {},
     "output_type": "execute_result"
    }
   ],
   "source": [
    "merged_df.columns"
   ]
  },
  {
   "cell_type": "code",
   "execution_count": 99,
   "metadata": {},
   "outputs": [],
   "source": [
    "# Replace NA in 'Member_Joined_On' with the non-null earliest of 'First_Member_Purchase_Date' and 'Schedule_Member_Enter_Date'\n",
    "def get_earliest_non_null_date(row):\n",
    "    dates = [row['First_Member_Purchase_Date'], row['Schedule_Member_Enter_Date']]\n",
    "    non_null_dates = list(filter(pd.notnull, dates))\n",
    "    if not non_null_dates:  # If the list is empty, both dates are null\n",
    "        return row['Member_Joined_On']  # Return the original value (could be NaT or NaN)\n",
    "    return min(non_null_dates)\n",
    "\n",
    "# Apply the function to each row\n",
    "merged_df['Member_Joined_On'] = merged_df.apply(get_earliest_non_null_date, axis=1)\n",
    "\n",
    "# Ensure 'Member_Joined_On' is a datetime Series, convert if necessary\n",
    "merged_df['Member_Joined_On'] = pd.to_datetime(merged_df['Member_Joined_On'], errors='coerce')\n",
    "\n",
    "# Convert to just the date part, without time\n",
    "merged_df['Member_Joined_On'] = merged_df['Member_Joined_On'].dt.date"
   ]
  },
  {
   "cell_type": "code",
   "execution_count": 100,
   "metadata": {},
   "outputs": [],
   "source": [
    "# Replace NaN values in 'Member_Joined_On' with values from 'First_Member_Purchase_Date'\n",
    "merged_df['Member_Joined_On'] = merged_df['Member_Joined_On'].fillna(merged_df['First_Member_Purchase_Date'])"
   ]
  },
  {
   "cell_type": "code",
   "execution_count": 101,
   "metadata": {},
   "outputs": [
    {
     "data": {
      "text/plain": [
       "Index(['Client_ID', 'First_Sale_Date', 'Last_Sale_Date', 'Sale_Frequency',\n",
       "       'Last_Sale_Membership', 'Preferred_Service_Time', 'Favorite_Sales_Item',\n",
       "       'Ever_Purchased_Addons', 'Ever_Purchased_Chair_Session',\n",
       "       'Ever_Purchased_Manager_Owner_Session', 'Ever_Late_Cancel',\n",
       "       'Non_Member_Purchase_Rate', 'First_Member_Purchase_Date',\n",
       "       'Member_Status', 'Member_Tier', 'Member_Joined_On', 'Location',\n",
       "       'Member_Next_Autopay_Date', 'Member_Next_Autopay_Amount',\n",
       "       'Member_Is_New_Member', 'Membership Autopay', 'First_Deposit_Date',\n",
       "       'Last_Deposit_Date', 'Deposit_Frequency', 'Last_Deposit_Membership',\n",
       "       'Schedule_Member_Enter_Date', 'Schedule_Member_Exit_Date', 'Member_Age',\n",
       "       'Schedule_Frequency', 'Favorite_Therapist', 'First_Schedule_Date',\n",
       "       'Last_Schedule_Date'],\n",
       "      dtype='object')"
      ]
     },
     "execution_count": 101,
     "metadata": {},
     "output_type": "execute_result"
    }
   ],
   "source": [
    "merged_df.columns"
   ]
  },
  {
   "cell_type": "code",
   "execution_count": 102,
   "metadata": {},
   "outputs": [],
   "source": [
    "merged_df.loc[(merged_df['Member_Status'] != \"Active\") & (merged_df['Member_Status'].notna()), 'Member_Status'] = \"Inactive\""
   ]
  },
  {
   "cell_type": "code",
   "execution_count": 103,
   "metadata": {},
   "outputs": [],
   "source": [
    "# Remove records where \"Member_Tier\" is null\n",
    "merged_df = merged_df.dropna(subset=['Member_Tier'])"
   ]
  },
  {
   "cell_type": "code",
   "execution_count": 104,
   "metadata": {},
   "outputs": [],
   "source": [
    "merged_df.loc[(merged_df['Member_Status'].isna()) & (merged_df['Last_Sale_Membership'] == \"Non-Member\"), 'Member_Status'] = \"Inactive\""
   ]
  },
  {
   "cell_type": "code",
   "execution_count": 105,
   "metadata": {},
   "outputs": [
    {
     "data": {
      "text/plain": [
       "(2701, 32)"
      ]
     },
     "execution_count": 105,
     "metadata": {},
     "output_type": "execute_result"
    }
   ],
   "source": [
    "merged_df.shape"
   ]
  },
  {
   "cell_type": "code",
   "execution_count": 106,
   "metadata": {},
   "outputs": [],
   "source": [
    "merged_df['Member_Joined_On'] = pd.to_datetime(merged_df['Member_Joined_On']).dt.date"
   ]
  },
  {
   "cell_type": "code",
   "execution_count": 107,
   "metadata": {},
   "outputs": [],
   "source": [
    "columns_to_drop = [\n",
    "    'Member_Next_Autopay_Date',\n",
    "    'First_Member_Purchase_Date',\n",
    "    'First_Deposit_Date',\n",
    "    'Schedule_Member_Enter_Date',\n",
    "    'Schedule_Member_Exit_Date',\n",
    "    'sales_First_Member_Purchase_Date',\n",
    "    'First_Schedule_Date'\n",
    "]\n",
    "\n",
    "# Drop the columns\n",
    "merged_df.drop(columns=columns_to_drop, inplace=True, errors='ignore')"
   ]
  },
  {
   "cell_type": "code",
   "execution_count": 108,
   "metadata": {},
   "outputs": [],
   "source": [
    "merged_df['Member_Next_Autopay_Amount'] = merged_df.get('Member_Next_Autopay_Amount', pd.Series()).fillna(0)"
   ]
  },
  {
   "cell_type": "code",
   "execution_count": 109,
   "metadata": {},
   "outputs": [
    {
     "data": {
      "text/plain": [
       "Index(['Client_ID', 'First_Sale_Date', 'Last_Sale_Date', 'Sale_Frequency',\n",
       "       'Last_Sale_Membership', 'Preferred_Service_Time', 'Favorite_Sales_Item',\n",
       "       'Ever_Purchased_Addons', 'Ever_Purchased_Chair_Session',\n",
       "       'Ever_Purchased_Manager_Owner_Session', 'Ever_Late_Cancel',\n",
       "       'Non_Member_Purchase_Rate', 'Member_Status', 'Member_Tier',\n",
       "       'Member_Joined_On', 'Location', 'Member_Next_Autopay_Amount',\n",
       "       'Member_Is_New_Member', 'Membership Autopay', 'Last_Deposit_Date',\n",
       "       'Deposit_Frequency', 'Last_Deposit_Membership', 'Member_Age',\n",
       "       'Schedule_Frequency', 'Favorite_Therapist', 'Last_Schedule_Date'],\n",
       "      dtype='object')"
      ]
     },
     "execution_count": 109,
     "metadata": {},
     "output_type": "execute_result"
    }
   ],
   "source": [
    "merged_df.columns"
   ]
  },
  {
   "cell_type": "code",
   "execution_count": 110,
   "metadata": {},
   "outputs": [],
   "source": [
    "columns_to_drop = [\n",
    "    'Location',\n",
    "    'Member_Tier', \n",
    "    'Member_Is_New_Member', \n",
    "    'Last_Sale_Membership',\n",
    "    'First_Sale_Date', \n",
    "    'Last_Deposit_Date', \n",
    "    'Deposit_Frequency', \n",
    "    'Last_Deposit_Membership',\n",
    "    'Membership Autopay'\n",
    "]\n",
    "\n",
    "# Drop the columns\n",
    "merged_df.drop(columns=columns_to_drop, inplace=True, errors='ignore')"
   ]
  },
  {
   "cell_type": "code",
   "execution_count": 111,
   "metadata": {},
   "outputs": [
    {
     "data": {
      "text/plain": [
       "(2701, 17)"
      ]
     },
     "execution_count": 111,
     "metadata": {},
     "output_type": "execute_result"
    }
   ],
   "source": [
    "merged_df.shape"
   ]
  },
  {
   "cell_type": "code",
   "execution_count": 112,
   "metadata": {},
   "outputs": [
    {
     "data": {
      "text/plain": [
       "(2701, 17)"
      ]
     },
     "execution_count": 112,
     "metadata": {},
     "output_type": "execute_result"
    }
   ],
   "source": [
    "merged_df = merged_df.drop_duplicates()\n",
    "merged_df.shape"
   ]
  },
  {
   "cell_type": "code",
   "execution_count": 113,
   "metadata": {},
   "outputs": [
    {
     "data": {
      "text/plain": [
       "(2174, 17)"
      ]
     },
     "execution_count": 113,
     "metadata": {},
     "output_type": "execute_result"
    }
   ],
   "source": [
    "merged_df = merged_df.dropna()\n",
    "merged_df.shape"
   ]
  },
  {
   "cell_type": "markdown",
   "metadata": {},
   "source": [
    "### Address date related features"
   ]
  },
  {
   "cell_type": "code",
   "execution_count": 114,
   "metadata": {},
   "outputs": [],
   "source": [
    "from datetime import datetime\n",
    "\n",
    "# Convert date columns to datetime\n",
    "merged_df['Member_Joined_On'] = pd.to_datetime(merged_df['Member_Joined_On'])\n",
    "merged_df['Last_Sale_Date'] = pd.to_datetime(merged_df['Last_Sale_Date'])\n",
    "\n",
    "# Define a reference date (using the most recent date in the dataset could be one approach)\n",
    "reference_date = max(merged_df['Member_Joined_On'].max(), merged_df['Last_Sale_Date'].max())\n",
    "\n",
    "# Calculate duration of membership in days\n",
    "merged_df['Membership_Duration'] = (reference_date - merged_df['Member_Joined_On']).dt.days"
   ]
  },
  {
   "cell_type": "code",
   "execution_count": 115,
   "metadata": {},
   "outputs": [],
   "source": [
    "# Extract year and month from Last_Sale_Date\n",
    "merged_df['Join_On_Year'] = merged_df['Member_Joined_On'].dt.year\n",
    "merged_df['Join_On_Month'] = merged_df['Member_Joined_On'].dt.month"
   ]
  },
  {
   "cell_type": "code",
   "execution_count": 116,
   "metadata": {},
   "outputs": [],
   "source": [
    "merged_df=merged_df.drop(['Member_Joined_On', 'Last_Sale_Date', 'Last_Schedule_Date'], axis = 1)"
   ]
  },
  {
   "cell_type": "markdown",
   "metadata": {},
   "source": [
    "### Remove outliers"
   ]
  },
  {
   "cell_type": "code",
   "execution_count": 117,
   "metadata": {},
   "outputs": [
    {
     "data": {
      "text/plain": [
       "(2174, 17)"
      ]
     },
     "execution_count": 117,
     "metadata": {},
     "output_type": "execute_result"
    }
   ],
   "source": [
    "merged_df.shape"
   ]
  },
  {
   "cell_type": "code",
   "execution_count": 118,
   "metadata": {},
   "outputs": [
    {
     "data": {
      "text/plain": [
       "Index(['Client_ID', 'Sale_Frequency', 'Preferred_Service_Time',\n",
       "       'Favorite_Sales_Item', 'Ever_Purchased_Addons',\n",
       "       'Ever_Purchased_Chair_Session', 'Ever_Purchased_Manager_Owner_Session',\n",
       "       'Ever_Late_Cancel', 'Non_Member_Purchase_Rate', 'Member_Status',\n",
       "       'Member_Next_Autopay_Amount', 'Member_Age', 'Schedule_Frequency',\n",
       "       'Favorite_Therapist', 'Membership_Duration', 'Join_On_Year',\n",
       "       'Join_On_Month'],\n",
       "      dtype='object')"
      ]
     },
     "execution_count": 118,
     "metadata": {},
     "output_type": "execute_result"
    }
   ],
   "source": [
    "merged_df.columns"
   ]
  },
  {
   "cell_type": "code",
   "execution_count": 119,
   "metadata": {},
   "outputs": [],
   "source": [
    "merged_df = merged_df[(merged_df['Member_Age']>=18)&(merged_df['Member_Age']<=80)]"
   ]
  },
  {
   "cell_type": "code",
   "execution_count": 120,
   "metadata": {},
   "outputs": [
    {
     "data": {
      "text/plain": [
       "(2142, 17)"
      ]
     },
     "execution_count": 120,
     "metadata": {},
     "output_type": "execute_result"
    }
   ],
   "source": [
    "merged_df.shape"
   ]
  },
  {
   "cell_type": "code",
   "execution_count": 121,
   "metadata": {},
   "outputs": [
    {
     "data": {
      "text/plain": [
       "924"
      ]
     },
     "execution_count": 121,
     "metadata": {},
     "output_type": "execute_result"
    }
   ],
   "source": [
    "(merged_df['Member_Status'] == 'Active').sum()"
   ]
  },
  {
   "cell_type": "code",
   "execution_count": 122,
   "metadata": {},
   "outputs": [
    {
     "data": {
      "text/plain": [
       "1218"
      ]
     },
     "execution_count": 122,
     "metadata": {},
     "output_type": "execute_result"
    }
   ],
   "source": [
    "(merged_df['Member_Status'] == 'Inactive').sum()"
   ]
  },
  {
   "cell_type": "code",
   "execution_count": 123,
   "metadata": {},
   "outputs": [],
   "source": [
    "merged_df.to_csv('merged_data.csv', index=False)"
   ]
  }
 ],
 "metadata": {
  "colab": {
   "provenance": [],
   "toc_visible": true
  },
  "kernelspec": {
   "display_name": "Python 3 (ipykernel)",
   "language": "python",
   "name": "python3"
  },
  "language_info": {
   "codemirror_mode": {
    "name": "ipython",
    "version": 3
   },
   "file_extension": ".py",
   "mimetype": "text/x-python",
   "name": "python",
   "nbconvert_exporter": "python",
   "pygments_lexer": "ipython3",
   "version": "3.10.11"
  }
 },
 "nbformat": 4,
 "nbformat_minor": 4
}
